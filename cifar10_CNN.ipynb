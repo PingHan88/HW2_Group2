{
 "cells": [
  {
   "cell_type": "code",
   "execution_count": 1,
   "metadata": {
    "pycharm": {
     "is_executing": true
    }
   },
   "outputs": [],
   "source": [
    "import warnings\n",
    "warnings.filterwarnings('ignore')"
   ]
  },
  {
   "cell_type": "code",
   "execution_count": 2,
   "metadata": {},
   "outputs": [
    {
     "name": "stdout",
     "output_type": "stream",
     "text": [
      "tf=2.3.0\n",
      "keras=2.4.0\n",
      "1 Physical GPUs, 1 Logical GPUs\n"
     ]
    }
   ],
   "source": [
    "#import tensorflow.compat.v1 as tf\n",
    "#tf.disable_v2_behavior()\n",
    "import tensorflow as tf\n",
    "print(f'tf={tf.__version__}')\n",
    "from tensorflow import keras\n",
    "print(f'keras={keras.__version__}')\n",
    "def solve_cudnn_error():\n",
    "    gpus = tf.config.experimental.list_physical_devices('GPU')\n",
    "    if gpus:\n",
    "        try:\n",
    "            # Currently, memory growth needs to be the same across GPUs\n",
    "            for gpu in gpus:\n",
    "                tf.config.experimental.set_memory_growth(gpu, True)\n",
    "            logical_gpus = tf.config.experimental.list_logical_devices('GPU')\n",
    "            print(len(gpus), \"Physical GPUs,\", len(logical_gpus), \"Logical GPUs\")\n",
    "        except RuntimeError as e:\n",
    "            # Memory growth must be set before GPUs have been initialized\n",
    "            print(e)\n",
    "solve_cudnn_error()"
   ]
  },
  {
   "cell_type": "code",
   "execution_count": 3,
   "metadata": {},
   "outputs": [],
   "source": [
    "import os  # 處理字串路徑\n",
    "import glob  # 查詢檔案\n",
    "import numpy as np\n",
    "import tensorflow.keras as keras\n",
    "from tensorflow.keras import backend as K\n",
    "from tensorflow.keras.models import Sequential\n",
    "from tensorflow.keras.layers import Activation\n",
    "from tensorflow.keras.layers import Dense, Flatten\n",
    "from tensorflow.keras.optimizers import Adam\n",
    "from tensorflow.keras.metrics import categorical_crossentropy\n",
    "from tensorflow.keras.preprocessing.image import ImageDataGenerator\n",
    "from tensorflow.keras.layers import BatchNormalization\n",
    "from tensorflow.keras.layers import *\n",
    "from sklearn.metrics import confusion_matrix\n",
    "from tensorflow.keras.models import load_model\n",
    "import itertools\n",
    "import matplotlib.pyplot as plt\n",
    "from PIL import Image"
   ]
  },
  {
   "cell_type": "code",
   "execution_count": 4,
   "metadata": {},
   "outputs": [],
   "source": [
    "from tensorflow.keras import backend as K\n",
    "\n",
    "def recall_m(y_true, y_pred):\n",
    "    true_positives = K.sum(K.round(K.clip(y_true * y_pred, 0, 1)))\n",
    "    possible_positives = K.sum(K.round(K.clip(y_true, 0, 1)))\n",
    "    recall = true_positives / (possible_positives + K.epsilon())\n",
    "    return recall\n",
    "\n",
    "def precision_m(y_true, y_pred):\n",
    "    true_positives = K.sum(K.round(K.clip(y_true * y_pred, 0, 1)))\n",
    "    predicted_positives = K.sum(K.round(K.clip(y_pred, 0, 1)))\n",
    "    precision = true_positives / (predicted_positives + K.epsilon())\n",
    "    return precision\n",
    "\n",
    "def f1_m(y_true, y_pred):\n",
    "    precision = precision_m(y_true, y_pred)\n",
    "    recall = recall_m(y_true, y_pred)\n",
    "    return 2*((precision*recall)/(precision+recall+K.epsilon()))"
   ]
  },
  {
   "cell_type": "code",
   "execution_count": null,
   "metadata": {},
   "outputs": [],
   "source": []
  },
  {
   "cell_type": "code",
   "execution_count": 5,
   "metadata": {},
   "outputs": [],
   "source": [
    "train_path = 'CIFAR10/train'\n",
    "valid_path = 'CIFAR10/test'\n",
    "test_path = 'CIFAR10/test'"
   ]
  },
  {
   "cell_type": "code",
   "execution_count": 6,
   "metadata": {},
   "outputs": [],
   "source": [
    "train_datagen = ImageDataGenerator(\n",
    "#     rotation_range=40,\n",
    "#     width_shift_range=0.2,\n",
    "#     height_shift_range=0.2,\n",
    "#     shear_range=0.2,\n",
    "#     zoom_range=0.2,\n",
    "#     horizontal_flip=True,\n",
    "#     fill_mode='nearest'\n",
    ")"
   ]
  },
  {
   "cell_type": "code",
   "execution_count": 7,
   "metadata": {},
   "outputs": [
    {
     "name": "stdout",
     "output_type": "stream",
     "text": [
      "Found 50000 images belonging to 10 classes.\n",
      "Found 10000 images belonging to 10 classes.\n"
     ]
    }
   ],
   "source": [
    "train_batches = train_datagen.flow_from_directory(train_path, target_size=(32,32), \n",
    "                                                         classes=['airplane',\n",
    "                                                                  'automobile',\n",
    "                                                                  'bird',\n",
    "                                                                  'cat',\n",
    "                                                                  'deer',\n",
    "                                                                  'dog',\n",
    "                                                                  'frog',\n",
    "                                                                  'horse',\n",
    "                                                                  'ship',\n",
    "                                                                  'truck'], batch_size=4)\n",
    "valid_batches = ImageDataGenerator().flow_from_directory(valid_path, target_size=(32,32), \n",
    "                                                         classes=['airplane',\n",
    "                                                                  'automobile',\n",
    "                                                                  'bird',\n",
    "                                                                  'cat',\n",
    "                                                                  'deer',\n",
    "                                                                  'dog',\n",
    "                                                                  'frog',\n",
    "                                                                  'horse',\n",
    "                                                                  'ship',\n",
    "                                                                  'truck'], batch_size=4)\n",
    "# test_batches = ImageDataGenerator().flow_from_directory(test_path, target_size=(32,32), \n",
    "#                                                         classes=['airplane',\n",
    "#                                                                   'automobile',\n",
    "#                                                                   'bird',\n",
    "#                                                                   'cat',\n",
    "#                                                                   'deer',\n",
    "#                                                                   'dog',\n",
    "#                                                                   'frog',\n",
    "#                                                                   'horse',\n",
    "#                                                                   'ship',\n",
    "#                                                                   'truck'], batch_size=4)"
   ]
  },
  {
   "cell_type": "code",
   "execution_count": 8,
   "metadata": {},
   "outputs": [
    {
     "name": "stdout",
     "output_type": "stream",
     "text": [
      "Model: \"VGG16\"\n",
      "_________________________________________________________________\n",
      "Layer (type)                 Output Shape              Param #   \n",
      "=================================================================\n",
      "block1_conv1 (Conv2D)        (None, 32, 32, 64)        1792      \n",
      "_________________________________________________________________\n",
      "block1_conv2 (Conv2D)        (None, 32, 32, 64)        36928     \n",
      "_________________________________________________________________\n",
      "max_pooling2d (MaxPooling2D) (None, 16, 16, 64)        0         \n",
      "_________________________________________________________________\n",
      "block2_conv1 (Conv2D)        (None, 16, 16, 128)       73856     \n",
      "_________________________________________________________________\n",
      "block2_conv2 (Conv2D)        (None, 16, 16, 128)       147584    \n",
      "_________________________________________________________________\n",
      "max_pooling2d_1 (MaxPooling2 (None, 8, 8, 128)         0         \n",
      "_________________________________________________________________\n",
      "block3_conv1 (Conv2D)        (None, 8, 8, 256)         295168    \n",
      "_________________________________________________________________\n",
      "block3_conv2 (Conv2D)        (None, 8, 8, 256)         590080    \n",
      "_________________________________________________________________\n",
      "block3_conv3 (Conv2D)        (None, 8, 8, 256)         590080    \n",
      "_________________________________________________________________\n",
      "max_pooling2d_2 (MaxPooling2 (None, 4, 4, 256)         0         \n",
      "_________________________________________________________________\n",
      "flatten (Flatten)            (None, 4096)              0         \n",
      "_________________________________________________________________\n",
      "fc1 (Dense)                  (None, 4096)              16781312  \n",
      "_________________________________________________________________\n",
      "dropout (Dropout)            (None, 4096)              0         \n",
      "_________________________________________________________________\n",
      "fc2 (Dense)                  (None, 1024)              4195328   \n",
      "_________________________________________________________________\n",
      "dropout_1 (Dropout)          (None, 1024)              0         \n",
      "_________________________________________________________________\n",
      "predictions (Dense)          (None, 10)                10250     \n",
      "=================================================================\n",
      "Total params: 22,722,378\n",
      "Trainable params: 22,722,378\n",
      "Non-trainable params: 0\n",
      "_________________________________________________________________\n"
     ]
    }
   ],
   "source": [
    "model = Sequential(name='VGG16')\n",
    "model.add(Convolution2D(64,(3, 3), activation='relu',name='block1_conv1',padding='same',input_shape=(32, 32, 3)))\n",
    "# model.add(ZeroPadding2D((1,1)))\n",
    "model.add(Convolution2D(64,(3, 3), activation='relu',name='block1_conv2',padding='same'))\n",
    "model.add(MaxPooling2D(pool_size=(2, 2)))\n",
    "\n",
    "# model.add(ZeroPadding2D((1,1)))\n",
    "model.add(Convolution2D(128,(3, 3), activation='relu',name='block2_conv1',padding='same'))\n",
    "# model.add(ZeroPadding2D((1,1)))\n",
    "model.add(Convolution2D(128,(3, 3), activation='relu',name='block2_conv2',padding='same'))\n",
    "model.add(MaxPooling2D(pool_size=(2, 2)))\n",
    "\n",
    "# model.add(ZeroPadding2D((1,1)))\n",
    "model.add(Convolution2D(256,(3, 3), activation='relu',name='block3_conv1',padding='same'))\n",
    "# model.add(ZeroPadding2D((1,1)))\n",
    "model.add(Convolution2D(256,(3, 3), activation='relu',name='block3_conv2',padding='same'))\n",
    "# model.add(ZeroPadding2D((1,1)))\n",
    "model.add(Convolution2D(256,(3, 3), activation='relu',name='block3_conv3',padding='same'))\n",
    "model.add(MaxPooling2D(pool_size=(2, 2)))\n",
    "\n",
    "# # model.add(ZeroPadding2D((1,1)))\n",
    "# model.add(Convolution2D(512,(3, 3), activation='relu',name='block4_conv1',padding='same'))\n",
    "# # model.add(ZeroPadding2D((1,1)))\n",
    "# model.add(Convolution2D(512,(3, 3), activation='relu',name='block4_conv2',padding='same'))\n",
    "# # model.add(ZeroPadding2D((1,1)))\n",
    "# model.add(Convolution2D(512,(3, 3), activation='relu',name='block4_conv3',padding='same'))\n",
    "# model.add(MaxPooling2D(pool_size=(2, 2)))\n",
    "\n",
    "# # model.add(ZeroPadding2D((1,1)))\n",
    "# model.add(Convolution2D(512,(3, 3), activation='relu',name='block5_conv1',padding='same'))\n",
    "# # model.add(ZeroPadding2D((1,1)))\n",
    "# model.add(Convolution2D(512,(3, 3), activation='relu',name='block5_conv2',padding='same'))\n",
    "# # model.add(ZeroPadding2D((1,1)))\n",
    "# model.add(Convolution2D(512,(3, 3), activation='relu',name='block5_conv3',padding='same'))\n",
    "# model.add(MaxPooling2D(pool_size=(2, 2)))\n",
    "\n",
    "model.add(Flatten(name='flatten'))\n",
    "model.add(Dense(4096, activation='relu',name='fc1'))\n",
    "model.add(Dropout(0.5))\n",
    "model.add(Dense(1024, activation='relu',name='fc2'))\n",
    "model.add(Dropout(0.5))\n",
    "# model.add(Dense(1000, activation='relu',name='fc3'))\n",
    "# model.add(Dropout(0.5))\n",
    "model.add(Dense(10, activation='softmax',name='predictions'))\n",
    "model.summary()"
   ]
  },
  {
   "cell_type": "code",
   "execution_count": 9,
   "metadata": {},
   "outputs": [],
   "source": [
    "model.compile(Adam(lr=.00002), loss='categorical_crossentropy', metrics=['accuracy',f1_m,precision_m, recall_m])\n",
    "#sgd = SGD(lr=.00002122, decay=1e-6, momentum=0.9, nesterov=True)\n",
    "#model.compile(optimizer=sgd, loss='categorical_crossentropy',metrics=['accuracy'])"
   ]
  },
  {
   "cell_type": "code",
   "execution_count": 10,
   "metadata": {},
   "outputs": [
    {
     "name": "stdout",
     "output_type": "stream",
     "text": [
      "WARNING:tensorflow:From <ipython-input-10-12050f14cf61>:4: Model.fit_generator (from tensorflow.python.keras.engine.training) is deprecated and will be removed in a future version.\n",
      "Instructions for updating:\n",
      "Please use Model.fit, which supports generators.\n",
      "Epoch 1/100\n",
      "WARNING:tensorflow:Callbacks method `on_train_batch_end` is slow compared to the batch time (batch time: 0.0090s vs `on_train_batch_end` time: 0.0140s). Check your callbacks.\n",
      "100/100 - 3s - loss: 5.1187 - accuracy: 0.1100 - f1_m: 0.0940 - precision_m: 0.1292 - recall_m: 0.0800 - val_loss: 2.2328 - val_accuracy: 0.1750 - val_f1_m: 0.0000e+00 - val_precision_m: 0.0000e+00 - val_recall_m: 0.0000e+00\n",
      "Epoch 2/100\n",
      "100/100 - 3s - loss: 2.7096 - accuracy: 0.1425 - f1_m: 0.0322 - precision_m: 0.0633 - recall_m: 0.0225 - val_loss: 2.2068 - val_accuracy: 0.1575 - val_f1_m: 0.0000e+00 - val_precision_m: 0.0000e+00 - val_recall_m: 0.0000e+00\n",
      "Epoch 3/100\n",
      "100/100 - 3s - loss: 2.3577 - accuracy: 0.1850 - f1_m: 0.0300 - precision_m: 0.0650 - recall_m: 0.0200 - val_loss: 2.1284 - val_accuracy: 0.2025 - val_f1_m: 0.0040 - val_precision_m: 0.0100 - val_recall_m: 0.0025\n",
      "Epoch 4/100\n",
      "100/100 - 2s - loss: 2.3461 - accuracy: 0.1675 - f1_m: 0.0040 - precision_m: 0.0100 - recall_m: 0.0025 - val_loss: 2.0580 - val_accuracy: 0.2600 - val_f1_m: 0.0000e+00 - val_precision_m: 0.0000e+00 - val_recall_m: 0.0000e+00\n",
      "Epoch 5/100\n",
      "100/100 - 3s - loss: 2.2860 - accuracy: 0.1800 - f1_m: 0.0286 - precision_m: 0.0600 - recall_m: 0.0200 - val_loss: 2.0366 - val_accuracy: 0.2875 - val_f1_m: 0.0000e+00 - val_precision_m: 0.0000e+00 - val_recall_m: 0.0000e+00\n",
      "Epoch 6/100\n",
      "100/100 - 3s - loss: 2.2559 - accuracy: 0.1800 - f1_m: 0.0267 - precision_m: 0.0600 - recall_m: 0.0175 - val_loss: 2.0366 - val_accuracy: 0.2800 - val_f1_m: 0.0000e+00 - val_precision_m: 0.0000e+00 - val_recall_m: 0.0000e+00\n",
      "Epoch 7/100\n",
      "100/100 - 3s - loss: 2.2237 - accuracy: 0.1650 - f1_m: 0.0147 - precision_m: 0.0300 - recall_m: 0.0100 - val_loss: 1.9731 - val_accuracy: 0.2525 - val_f1_m: 0.0000e+00 - val_precision_m: 0.0000e+00 - val_recall_m: 0.0000e+00\n",
      "Epoch 8/100\n",
      "100/100 - 3s - loss: 2.1057 - accuracy: 0.2225 - f1_m: 0.0280 - precision_m: 0.0700 - recall_m: 0.0175 - val_loss: 1.9905 - val_accuracy: 0.2625 - val_f1_m: 0.0000e+00 - val_precision_m: 0.0000e+00 - val_recall_m: 0.0000e+00\n",
      "Epoch 9/100\n",
      "100/100 - 3s - loss: 2.0569 - accuracy: 0.2200 - f1_m: 0.0373 - precision_m: 0.0800 - recall_m: 0.0250 - val_loss: 1.9043 - val_accuracy: 0.3075 - val_f1_m: 0.0000e+00 - val_precision_m: 0.0000e+00 - val_recall_m: 0.0000e+00\n",
      "Epoch 10/100\n",
      "100/100 - 3s - loss: 2.0419 - accuracy: 0.2275 - f1_m: 0.0353 - precision_m: 0.0850 - recall_m: 0.0225 - val_loss: 1.8340 - val_accuracy: 0.3425 - val_f1_m: 0.0360 - val_precision_m: 0.0900 - val_recall_m: 0.0225\n",
      "Epoch 11/100\n",
      "100/100 - 3s - loss: 2.0388 - accuracy: 0.2975 - f1_m: 0.0713 - precision_m: 0.1750 - recall_m: 0.0450 - val_loss: 1.8720 - val_accuracy: 0.3050 - val_f1_m: 0.0080 - val_precision_m: 0.0200 - val_recall_m: 0.0050\n",
      "Epoch 12/100\n",
      "100/100 - 3s - loss: 2.0571 - accuracy: 0.2250 - f1_m: 0.0367 - precision_m: 0.0750 - recall_m: 0.0250 - val_loss: 1.9178 - val_accuracy: 0.2675 - val_f1_m: 0.0080 - val_precision_m: 0.0200 - val_recall_m: 0.0050\n",
      "Epoch 13/100\n",
      "100/100 - 3s - loss: 2.0433 - accuracy: 0.2750 - f1_m: 0.0200 - precision_m: 0.0500 - recall_m: 0.0125 - val_loss: 1.8586 - val_accuracy: 0.3500 - val_f1_m: 0.0360 - val_precision_m: 0.0900 - val_recall_m: 0.0225\n",
      "Epoch 14/100\n",
      "100/100 - 2s - loss: 1.9698 - accuracy: 0.2825 - f1_m: 0.0593 - precision_m: 0.1450 - recall_m: 0.0375 - val_loss: 1.8996 - val_accuracy: 0.3150 - val_f1_m: 0.0120 - val_precision_m: 0.0300 - val_recall_m: 0.0075\n",
      "Epoch 15/100\n",
      "100/100 - 2s - loss: 2.0213 - accuracy: 0.2675 - f1_m: 0.0300 - precision_m: 0.0650 - recall_m: 0.0200 - val_loss: 1.7789 - val_accuracy: 0.3575 - val_f1_m: 0.0427 - val_precision_m: 0.1000 - val_recall_m: 0.0275\n",
      "Epoch 16/100\n",
      "100/100 - 2s - loss: 1.9730 - accuracy: 0.2475 - f1_m: 0.0443 - precision_m: 0.1000 - recall_m: 0.0300 - val_loss: 1.7934 - val_accuracy: 0.3650 - val_f1_m: 0.0627 - val_precision_m: 0.1500 - val_recall_m: 0.0400\n",
      "Epoch 17/100\n",
      "100/100 - 2s - loss: 1.8950 - accuracy: 0.3150 - f1_m: 0.0760 - precision_m: 0.1700 - recall_m: 0.0500 - val_loss: 1.8061 - val_accuracy: 0.3750 - val_f1_m: 0.0480 - val_precision_m: 0.1200 - val_recall_m: 0.0300\n",
      "Epoch 18/100\n",
      "100/100 - 2s - loss: 1.9118 - accuracy: 0.3250 - f1_m: 0.0873 - precision_m: 0.1950 - recall_m: 0.0575 - val_loss: 1.8827 - val_accuracy: 0.3100 - val_f1_m: 0.0893 - val_precision_m: 0.2100 - val_recall_m: 0.0575\n",
      "Epoch 19/100\n",
      "100/100 - 2s - loss: 1.8838 - accuracy: 0.2925 - f1_m: 0.1015 - precision_m: 0.2233 - recall_m: 0.0675 - val_loss: 1.7343 - val_accuracy: 0.3750 - val_f1_m: 0.1166 - val_precision_m: 0.2600 - val_recall_m: 0.0775\n",
      "Epoch 20/100\n",
      "100/100 - 2s - loss: 1.9214 - accuracy: 0.2875 - f1_m: 0.0944 - precision_m: 0.1917 - recall_m: 0.0650 - val_loss: 1.7164 - val_accuracy: 0.4150 - val_f1_m: 0.0773 - val_precision_m: 0.1800 - val_recall_m: 0.0500\n",
      "Epoch 21/100\n",
      "100/100 - 2s - loss: 1.8448 - accuracy: 0.3200 - f1_m: 0.0873 - precision_m: 0.1950 - recall_m: 0.0575 - val_loss: 1.7357 - val_accuracy: 0.3700 - val_f1_m: 0.1274 - val_precision_m: 0.2833 - val_recall_m: 0.0850\n",
      "Epoch 22/100\n",
      "100/100 - 2s - loss: 1.8242 - accuracy: 0.3050 - f1_m: 0.1029 - precision_m: 0.2333 - recall_m: 0.0675 - val_loss: 1.8259 - val_accuracy: 0.3525 - val_f1_m: 0.0800 - val_precision_m: 0.1800 - val_recall_m: 0.0525\n",
      "Epoch 23/100\n",
      "100/100 - 2s - loss: 1.8864 - accuracy: 0.3000 - f1_m: 0.1093 - precision_m: 0.2400 - recall_m: 0.0725 - val_loss: 1.7351 - val_accuracy: 0.3700 - val_f1_m: 0.0987 - val_precision_m: 0.2400 - val_recall_m: 0.0625\n",
      "Epoch 24/100\n",
      "100/100 - 2s - loss: 1.9010 - accuracy: 0.2925 - f1_m: 0.0987 - precision_m: 0.2200 - recall_m: 0.0650 - val_loss: 1.7544 - val_accuracy: 0.3800 - val_f1_m: 0.0353 - val_precision_m: 0.0850 - val_recall_m: 0.0225\n",
      "Epoch 25/100\n",
      "100/100 - 2s - loss: 1.9072 - accuracy: 0.3000 - f1_m: 0.0620 - precision_m: 0.1450 - recall_m: 0.0400 - val_loss: 1.8080 - val_accuracy: 0.3750 - val_f1_m: 0.0320 - val_precision_m: 0.0800 - val_recall_m: 0.0200\n",
      "Epoch 26/100\n",
      "100/100 - 2s - loss: 1.7799 - accuracy: 0.3350 - f1_m: 0.0990 - precision_m: 0.2267 - recall_m: 0.0650 - val_loss: 1.6934 - val_accuracy: 0.3600 - val_f1_m: 0.1253 - val_precision_m: 0.2600 - val_recall_m: 0.0850\n",
      "Epoch 27/100\n",
      "100/100 - 2s - loss: 1.8175 - accuracy: 0.3575 - f1_m: 0.1324 - precision_m: 0.2767 - recall_m: 0.0900 - val_loss: 1.7892 - val_accuracy: 0.3525 - val_f1_m: 0.0764 - val_precision_m: 0.1567 - val_recall_m: 0.0525\n",
      "Epoch 28/100\n",
      "100/100 - 2s - loss: 1.8506 - accuracy: 0.3100 - f1_m: 0.0943 - precision_m: 0.1767 - recall_m: 0.0675 - val_loss: 1.7628 - val_accuracy: 0.3700 - val_f1_m: 0.0867 - val_precision_m: 0.2100 - val_recall_m: 0.0550\n",
      "Epoch 29/100\n",
      "100/100 - 2s - loss: 1.7967 - accuracy: 0.3225 - f1_m: 0.0832 - precision_m: 0.1700 - recall_m: 0.0575 - val_loss: 1.7357 - val_accuracy: 0.3850 - val_f1_m: 0.1337 - val_precision_m: 0.3067 - val_recall_m: 0.0875\n",
      "Epoch 30/100\n",
      "100/100 - 2s - loss: 1.7889 - accuracy: 0.3325 - f1_m: 0.1575 - precision_m: 0.3167 - recall_m: 0.1100 - val_loss: 1.8418 - val_accuracy: 0.3500 - val_f1_m: 0.0727 - val_precision_m: 0.1650 - val_recall_m: 0.0475\n",
      "Epoch 31/100\n",
      "100/100 - 2s - loss: 1.8477 - accuracy: 0.3150 - f1_m: 0.1180 - precision_m: 0.2450 - recall_m: 0.0800 - val_loss: 1.6615 - val_accuracy: 0.3925 - val_f1_m: 0.0733 - val_precision_m: 0.1700 - val_recall_m: 0.0475\n",
      "Epoch 32/100\n",
      "100/100 - 3s - loss: 1.7635 - accuracy: 0.3600 - f1_m: 0.1304 - precision_m: 0.2817 - recall_m: 0.0875 - val_loss: 1.6362 - val_accuracy: 0.4100 - val_f1_m: 0.1380 - val_precision_m: 0.3350 - val_recall_m: 0.0875\n",
      "Epoch 33/100\n",
      "100/100 - 2s - loss: 1.7535 - accuracy: 0.3550 - f1_m: 0.1301 - precision_m: 0.2833 - recall_m: 0.0875 - val_loss: 1.6972 - val_accuracy: 0.3775 - val_f1_m: 0.1360 - val_precision_m: 0.3000 - val_recall_m: 0.0900\n",
      "Epoch 34/100\n",
      "100/100 - 2s - loss: 1.7680 - accuracy: 0.3400 - f1_m: 0.1317 - precision_m: 0.2717 - recall_m: 0.0900 - val_loss: 1.7537 - val_accuracy: 0.3550 - val_f1_m: 0.1459 - val_precision_m: 0.3200 - val_recall_m: 0.0975\n"
     ]
    },
    {
     "name": "stdout",
     "output_type": "stream",
     "text": [
      "Epoch 35/100\n",
      "100/100 - 2s - loss: 1.7728 - accuracy: 0.3625 - f1_m: 0.1033 - precision_m: 0.2350 - recall_m: 0.0675 - val_loss: 1.5799 - val_accuracy: 0.4325 - val_f1_m: 0.1288 - val_precision_m: 0.2933 - val_recall_m: 0.0850\n",
      "Epoch 36/100\n",
      "100/100 - 2s - loss: 1.7018 - accuracy: 0.3700 - f1_m: 0.1646 - precision_m: 0.3600 - recall_m: 0.1100 - val_loss: 1.5860 - val_accuracy: 0.4175 - val_f1_m: 0.2054 - val_precision_m: 0.4283 - val_recall_m: 0.1400\n",
      "Epoch 37/100\n",
      "100/100 - 2s - loss: 1.7549 - accuracy: 0.3425 - f1_m: 0.1183 - precision_m: 0.2367 - recall_m: 0.0825 - val_loss: 1.7638 - val_accuracy: 0.3550 - val_f1_m: 0.1907 - val_precision_m: 0.4100 - val_recall_m: 0.1275\n",
      "Epoch 38/100\n",
      "100/100 - 2s - loss: 1.6084 - accuracy: 0.3975 - f1_m: 0.2248 - precision_m: 0.4467 - recall_m: 0.1575 - val_loss: 1.6071 - val_accuracy: 0.4625 - val_f1_m: 0.1910 - val_precision_m: 0.4167 - val_recall_m: 0.1275\n",
      "Epoch 39/100\n",
      "100/100 - 2s - loss: 1.6855 - accuracy: 0.3950 - f1_m: 0.1888 - precision_m: 0.3483 - recall_m: 0.1375 - val_loss: 1.7137 - val_accuracy: 0.3625 - val_f1_m: 0.1560 - val_precision_m: 0.3500 - val_recall_m: 0.1025\n",
      "Epoch 40/100\n",
      "100/100 - 2s - loss: 1.7379 - accuracy: 0.3650 - f1_m: 0.1680 - precision_m: 0.3533 - recall_m: 0.1150 - val_loss: 1.5932 - val_accuracy: 0.4175 - val_f1_m: 0.1527 - val_precision_m: 0.3250 - val_recall_m: 0.1025\n",
      "Epoch 41/100\n",
      "100/100 - 2s - loss: 1.6448 - accuracy: 0.4000 - f1_m: 0.2088 - precision_m: 0.3800 - recall_m: 0.1525 - val_loss: 1.5751 - val_accuracy: 0.4275 - val_f1_m: 0.2117 - val_precision_m: 0.4050 - val_recall_m: 0.1500\n",
      "Epoch 42/100\n",
      "100/100 - 2s - loss: 1.7075 - accuracy: 0.3850 - f1_m: 0.1948 - precision_m: 0.3600 - recall_m: 0.1400 - val_loss: 1.5440 - val_accuracy: 0.4625 - val_f1_m: 0.1702 - val_precision_m: 0.3583 - val_recall_m: 0.1150\n",
      "Epoch 43/100\n",
      "100/100 - 2s - loss: 1.6866 - accuracy: 0.3775 - f1_m: 0.2072 - precision_m: 0.4200 - recall_m: 0.1425 - val_loss: 1.5861 - val_accuracy: 0.4200 - val_f1_m: 0.1897 - val_precision_m: 0.3867 - val_recall_m: 0.1300\n",
      "Epoch 44/100\n",
      "100/100 - 2s - loss: 1.6548 - accuracy: 0.4075 - f1_m: 0.2004 - precision_m: 0.4000 - recall_m: 0.1400 - val_loss: 1.5718 - val_accuracy: 0.4150 - val_f1_m: 0.1693 - val_precision_m: 0.3700 - val_recall_m: 0.1125\n",
      "Epoch 45/100\n",
      "100/100 - 2s - loss: 1.6560 - accuracy: 0.3875 - f1_m: 0.2001 - precision_m: 0.3883 - recall_m: 0.1400 - val_loss: 1.5317 - val_accuracy: 0.4325 - val_f1_m: 0.1786 - val_precision_m: 0.3650 - val_recall_m: 0.1225\n",
      "Epoch 46/100\n",
      "100/100 - 2s - loss: 1.5682 - accuracy: 0.4425 - f1_m: 0.2300 - precision_m: 0.4233 - recall_m: 0.1675 - val_loss: 1.5689 - val_accuracy: 0.4075 - val_f1_m: 0.2604 - val_precision_m: 0.4433 - val_recall_m: 0.1925\n",
      "Epoch 47/100\n",
      "100/100 - 2s - loss: 1.6947 - accuracy: 0.3675 - f1_m: 0.1994 - precision_m: 0.3367 - recall_m: 0.1475 - val_loss: 1.4482 - val_accuracy: 0.4725 - val_f1_m: 0.2807 - val_precision_m: 0.5517 - val_recall_m: 0.1975\n",
      "Epoch 48/100\n",
      "100/100 - 2s - loss: 1.6972 - accuracy: 0.3600 - f1_m: 0.1941 - precision_m: 0.3783 - recall_m: 0.1375 - val_loss: 1.6264 - val_accuracy: 0.4025 - val_f1_m: 0.1306 - val_precision_m: 0.2850 - val_recall_m: 0.0875\n",
      "Epoch 49/100\n",
      "100/100 - 14s - loss: 1.6429 - accuracy: 0.4000 - f1_m: 0.2099 - precision_m: 0.3825 - recall_m: 0.1525 - val_loss: 1.4759 - val_accuracy: 0.4625 - val_f1_m: 0.2884 - val_precision_m: 0.5600 - val_recall_m: 0.2025\n",
      "Epoch 50/100\n",
      "100/100 - 17s - loss: 1.6566 - accuracy: 0.3975 - f1_m: 0.2086 - precision_m: 0.3900 - recall_m: 0.1475 - val_loss: 1.5062 - val_accuracy: 0.4150 - val_f1_m: 0.2820 - val_precision_m: 0.5217 - val_recall_m: 0.2025\n",
      "Epoch 51/100\n"
     ]
    },
    {
     "ename": "KeyboardInterrupt",
     "evalue": "",
     "output_type": "error",
     "traceback": [
      "\u001b[1;31m---------------------------------------------------------------------------\u001b[0m",
      "\u001b[1;31mKeyboardInterrupt\u001b[0m                         Traceback (most recent call last)",
      "\u001b[1;32m<ipython-input-10-12050f14cf61>\u001b[0m in \u001b[0;36m<module>\u001b[1;34m\u001b[0m\n\u001b[0;32m      2\u001b[0m \u001b[1;31m# checkpoint = ModelCheckpoint(\"vgg16_1.h5\", monitor='val_acc', verbose=1, save_best_only=True, save_weights_only=False, mode='auto', period=1)\u001b[0m\u001b[1;33m\u001b[0m\u001b[1;33m\u001b[0m\u001b[1;33m\u001b[0m\u001b[0m\n\u001b[0;32m      3\u001b[0m \u001b[1;31m# early = EarlyStopping(monitor='val_acc', min_delta=0, patience=20, verbose=1, mode='auto')\u001b[0m\u001b[1;33m\u001b[0m\u001b[1;33m\u001b[0m\u001b[1;33m\u001b[0m\u001b[0m\n\u001b[1;32m----> 4\u001b[1;33m hist = model.fit_generator(steps_per_epoch=100,\n\u001b[0m\u001b[0;32m      5\u001b[0m                            \u001b[0mgenerator\u001b[0m\u001b[1;33m=\u001b[0m\u001b[0mtrain_batches\u001b[0m\u001b[1;33m,\u001b[0m\u001b[1;33m\u001b[0m\u001b[1;33m\u001b[0m\u001b[0m\n\u001b[0;32m      6\u001b[0m                            \u001b[0mvalidation_data\u001b[0m\u001b[1;33m=\u001b[0m \u001b[0mvalid_batches\u001b[0m\u001b[1;33m,\u001b[0m\u001b[1;33m\u001b[0m\u001b[1;33m\u001b[0m\u001b[0m\n",
      "\u001b[1;32mc:\\users\\hetty\\anaconda3\\envs\\tensorflowgpu\\lib\\site-packages\\tensorflow\\python\\util\\deprecation.py\u001b[0m in \u001b[0;36mnew_func\u001b[1;34m(*args, **kwargs)\u001b[0m\n\u001b[0;32m    322\u001b[0m               \u001b[1;34m'in a future version'\u001b[0m \u001b[1;32mif\u001b[0m \u001b[0mdate\u001b[0m \u001b[1;32mis\u001b[0m \u001b[1;32mNone\u001b[0m \u001b[1;32melse\u001b[0m \u001b[1;33m(\u001b[0m\u001b[1;34m'after %s'\u001b[0m \u001b[1;33m%\u001b[0m \u001b[0mdate\u001b[0m\u001b[1;33m)\u001b[0m\u001b[1;33m,\u001b[0m\u001b[1;33m\u001b[0m\u001b[1;33m\u001b[0m\u001b[0m\n\u001b[0;32m    323\u001b[0m               instructions)\n\u001b[1;32m--> 324\u001b[1;33m       \u001b[1;32mreturn\u001b[0m \u001b[0mfunc\u001b[0m\u001b[1;33m(\u001b[0m\u001b[1;33m*\u001b[0m\u001b[0margs\u001b[0m\u001b[1;33m,\u001b[0m \u001b[1;33m**\u001b[0m\u001b[0mkwargs\u001b[0m\u001b[1;33m)\u001b[0m\u001b[1;33m\u001b[0m\u001b[1;33m\u001b[0m\u001b[0m\n\u001b[0m\u001b[0;32m    325\u001b[0m     return tf_decorator.make_decorator(\n\u001b[0;32m    326\u001b[0m         \u001b[0mfunc\u001b[0m\u001b[1;33m,\u001b[0m \u001b[0mnew_func\u001b[0m\u001b[1;33m,\u001b[0m \u001b[1;34m'deprecated'\u001b[0m\u001b[1;33m,\u001b[0m\u001b[1;33m\u001b[0m\u001b[1;33m\u001b[0m\u001b[0m\n",
      "\u001b[1;32mc:\\users\\hetty\\anaconda3\\envs\\tensorflowgpu\\lib\\site-packages\\tensorflow\\python\\keras\\engine\\training.py\u001b[0m in \u001b[0;36mfit_generator\u001b[1;34m(self, generator, steps_per_epoch, epochs, verbose, callbacks, validation_data, validation_steps, validation_freq, class_weight, max_queue_size, workers, use_multiprocessing, shuffle, initial_epoch)\u001b[0m\n\u001b[0;32m   1813\u001b[0m     \"\"\"\n\u001b[0;32m   1814\u001b[0m     \u001b[0m_keras_api_gauge\u001b[0m\u001b[1;33m.\u001b[0m\u001b[0mget_cell\u001b[0m\u001b[1;33m(\u001b[0m\u001b[1;34m'fit_generator'\u001b[0m\u001b[1;33m)\u001b[0m\u001b[1;33m.\u001b[0m\u001b[0mset\u001b[0m\u001b[1;33m(\u001b[0m\u001b[1;32mTrue\u001b[0m\u001b[1;33m)\u001b[0m\u001b[1;33m\u001b[0m\u001b[1;33m\u001b[0m\u001b[0m\n\u001b[1;32m-> 1815\u001b[1;33m     return self.fit(\n\u001b[0m\u001b[0;32m   1816\u001b[0m         \u001b[0mgenerator\u001b[0m\u001b[1;33m,\u001b[0m\u001b[1;33m\u001b[0m\u001b[1;33m\u001b[0m\u001b[0m\n\u001b[0;32m   1817\u001b[0m         \u001b[0msteps_per_epoch\u001b[0m\u001b[1;33m=\u001b[0m\u001b[0msteps_per_epoch\u001b[0m\u001b[1;33m,\u001b[0m\u001b[1;33m\u001b[0m\u001b[1;33m\u001b[0m\u001b[0m\n",
      "\u001b[1;32mc:\\users\\hetty\\anaconda3\\envs\\tensorflowgpu\\lib\\site-packages\\tensorflow\\python\\keras\\engine\\training.py\u001b[0m in \u001b[0;36m_method_wrapper\u001b[1;34m(self, *args, **kwargs)\u001b[0m\n\u001b[0;32m    106\u001b[0m   \u001b[1;32mdef\u001b[0m \u001b[0m_method_wrapper\u001b[0m\u001b[1;33m(\u001b[0m\u001b[0mself\u001b[0m\u001b[1;33m,\u001b[0m \u001b[1;33m*\u001b[0m\u001b[0margs\u001b[0m\u001b[1;33m,\u001b[0m \u001b[1;33m**\u001b[0m\u001b[0mkwargs\u001b[0m\u001b[1;33m)\u001b[0m\u001b[1;33m:\u001b[0m\u001b[1;33m\u001b[0m\u001b[1;33m\u001b[0m\u001b[0m\n\u001b[0;32m    107\u001b[0m     \u001b[1;32mif\u001b[0m \u001b[1;32mnot\u001b[0m \u001b[0mself\u001b[0m\u001b[1;33m.\u001b[0m\u001b[0m_in_multi_worker_mode\u001b[0m\u001b[1;33m(\u001b[0m\u001b[1;33m)\u001b[0m\u001b[1;33m:\u001b[0m  \u001b[1;31m# pylint: disable=protected-access\u001b[0m\u001b[1;33m\u001b[0m\u001b[1;33m\u001b[0m\u001b[0m\n\u001b[1;32m--> 108\u001b[1;33m       \u001b[1;32mreturn\u001b[0m \u001b[0mmethod\u001b[0m\u001b[1;33m(\u001b[0m\u001b[0mself\u001b[0m\u001b[1;33m,\u001b[0m \u001b[1;33m*\u001b[0m\u001b[0margs\u001b[0m\u001b[1;33m,\u001b[0m \u001b[1;33m**\u001b[0m\u001b[0mkwargs\u001b[0m\u001b[1;33m)\u001b[0m\u001b[1;33m\u001b[0m\u001b[1;33m\u001b[0m\u001b[0m\n\u001b[0m\u001b[0;32m    109\u001b[0m \u001b[1;33m\u001b[0m\u001b[0m\n\u001b[0;32m    110\u001b[0m     \u001b[1;31m# Running inside `run_distribute_coordinator` already.\u001b[0m\u001b[1;33m\u001b[0m\u001b[1;33m\u001b[0m\u001b[1;33m\u001b[0m\u001b[0m\n",
      "\u001b[1;32mc:\\users\\hetty\\anaconda3\\envs\\tensorflowgpu\\lib\\site-packages\\tensorflow\\python\\keras\\engine\\training.py\u001b[0m in \u001b[0;36mfit\u001b[1;34m(self, x, y, batch_size, epochs, verbose, callbacks, validation_split, validation_data, shuffle, class_weight, sample_weight, initial_epoch, steps_per_epoch, validation_steps, validation_batch_size, validation_freq, max_queue_size, workers, use_multiprocessing)\u001b[0m\n\u001b[0;32m   1121\u001b[0m                 \u001b[0mmodel\u001b[0m\u001b[1;33m=\u001b[0m\u001b[0mself\u001b[0m\u001b[1;33m,\u001b[0m\u001b[1;33m\u001b[0m\u001b[1;33m\u001b[0m\u001b[0m\n\u001b[0;32m   1122\u001b[0m                 steps_per_execution=self._steps_per_execution)\n\u001b[1;32m-> 1123\u001b[1;33m           val_logs = self.evaluate(\n\u001b[0m\u001b[0;32m   1124\u001b[0m               \u001b[0mx\u001b[0m\u001b[1;33m=\u001b[0m\u001b[0mval_x\u001b[0m\u001b[1;33m,\u001b[0m\u001b[1;33m\u001b[0m\u001b[1;33m\u001b[0m\u001b[0m\n\u001b[0;32m   1125\u001b[0m               \u001b[0my\u001b[0m\u001b[1;33m=\u001b[0m\u001b[0mval_y\u001b[0m\u001b[1;33m,\u001b[0m\u001b[1;33m\u001b[0m\u001b[1;33m\u001b[0m\u001b[0m\n",
      "\u001b[1;32mc:\\users\\hetty\\anaconda3\\envs\\tensorflowgpu\\lib\\site-packages\\tensorflow\\python\\keras\\engine\\training.py\u001b[0m in \u001b[0;36m_method_wrapper\u001b[1;34m(self, *args, **kwargs)\u001b[0m\n\u001b[0;32m    106\u001b[0m   \u001b[1;32mdef\u001b[0m \u001b[0m_method_wrapper\u001b[0m\u001b[1;33m(\u001b[0m\u001b[0mself\u001b[0m\u001b[1;33m,\u001b[0m \u001b[1;33m*\u001b[0m\u001b[0margs\u001b[0m\u001b[1;33m,\u001b[0m \u001b[1;33m**\u001b[0m\u001b[0mkwargs\u001b[0m\u001b[1;33m)\u001b[0m\u001b[1;33m:\u001b[0m\u001b[1;33m\u001b[0m\u001b[1;33m\u001b[0m\u001b[0m\n\u001b[0;32m    107\u001b[0m     \u001b[1;32mif\u001b[0m \u001b[1;32mnot\u001b[0m \u001b[0mself\u001b[0m\u001b[1;33m.\u001b[0m\u001b[0m_in_multi_worker_mode\u001b[0m\u001b[1;33m(\u001b[0m\u001b[1;33m)\u001b[0m\u001b[1;33m:\u001b[0m  \u001b[1;31m# pylint: disable=protected-access\u001b[0m\u001b[1;33m\u001b[0m\u001b[1;33m\u001b[0m\u001b[0m\n\u001b[1;32m--> 108\u001b[1;33m       \u001b[1;32mreturn\u001b[0m \u001b[0mmethod\u001b[0m\u001b[1;33m(\u001b[0m\u001b[0mself\u001b[0m\u001b[1;33m,\u001b[0m \u001b[1;33m*\u001b[0m\u001b[0margs\u001b[0m\u001b[1;33m,\u001b[0m \u001b[1;33m**\u001b[0m\u001b[0mkwargs\u001b[0m\u001b[1;33m)\u001b[0m\u001b[1;33m\u001b[0m\u001b[1;33m\u001b[0m\u001b[0m\n\u001b[0m\u001b[0;32m    109\u001b[0m \u001b[1;33m\u001b[0m\u001b[0m\n\u001b[0;32m    110\u001b[0m     \u001b[1;31m# Running inside `run_distribute_coordinator` already.\u001b[0m\u001b[1;33m\u001b[0m\u001b[1;33m\u001b[0m\u001b[1;33m\u001b[0m\u001b[0m\n",
      "\u001b[1;32mc:\\users\\hetty\\anaconda3\\envs\\tensorflowgpu\\lib\\site-packages\\tensorflow\\python\\keras\\engine\\training.py\u001b[0m in \u001b[0;36mevaluate\u001b[1;34m(self, x, y, batch_size, verbose, sample_weight, steps, callbacks, max_queue_size, workers, use_multiprocessing, return_dict)\u001b[0m\n\u001b[0;32m   1377\u001b[0m             \u001b[1;32mwith\u001b[0m \u001b[0mtrace\u001b[0m\u001b[1;33m.\u001b[0m\u001b[0mTrace\u001b[0m\u001b[1;33m(\u001b[0m\u001b[1;34m'TraceContext'\u001b[0m\u001b[1;33m,\u001b[0m \u001b[0mgraph_type\u001b[0m\u001b[1;33m=\u001b[0m\u001b[1;34m'test'\u001b[0m\u001b[1;33m,\u001b[0m \u001b[0mstep_num\u001b[0m\u001b[1;33m=\u001b[0m\u001b[0mstep\u001b[0m\u001b[1;33m)\u001b[0m\u001b[1;33m:\u001b[0m\u001b[1;33m\u001b[0m\u001b[1;33m\u001b[0m\u001b[0m\n\u001b[0;32m   1378\u001b[0m               \u001b[0mcallbacks\u001b[0m\u001b[1;33m.\u001b[0m\u001b[0mon_test_batch_begin\u001b[0m\u001b[1;33m(\u001b[0m\u001b[0mstep\u001b[0m\u001b[1;33m)\u001b[0m\u001b[1;33m\u001b[0m\u001b[1;33m\u001b[0m\u001b[0m\n\u001b[1;32m-> 1379\u001b[1;33m               \u001b[0mtmp_logs\u001b[0m \u001b[1;33m=\u001b[0m \u001b[0mtest_function\u001b[0m\u001b[1;33m(\u001b[0m\u001b[0miterator\u001b[0m\u001b[1;33m)\u001b[0m\u001b[1;33m\u001b[0m\u001b[1;33m\u001b[0m\u001b[0m\n\u001b[0m\u001b[0;32m   1380\u001b[0m               \u001b[1;32mif\u001b[0m \u001b[0mdata_handler\u001b[0m\u001b[1;33m.\u001b[0m\u001b[0mshould_sync\u001b[0m\u001b[1;33m:\u001b[0m\u001b[1;33m\u001b[0m\u001b[1;33m\u001b[0m\u001b[0m\n\u001b[0;32m   1381\u001b[0m                 \u001b[0mcontext\u001b[0m\u001b[1;33m.\u001b[0m\u001b[0masync_wait\u001b[0m\u001b[1;33m(\u001b[0m\u001b[1;33m)\u001b[0m\u001b[1;33m\u001b[0m\u001b[1;33m\u001b[0m\u001b[0m\n",
      "\u001b[1;32mc:\\users\\hetty\\anaconda3\\envs\\tensorflowgpu\\lib\\site-packages\\tensorflow\\python\\eager\\def_function.py\u001b[0m in \u001b[0;36m__call__\u001b[1;34m(self, *args, **kwds)\u001b[0m\n\u001b[0;32m    778\u001b[0m       \u001b[1;32melse\u001b[0m\u001b[1;33m:\u001b[0m\u001b[1;33m\u001b[0m\u001b[1;33m\u001b[0m\u001b[0m\n\u001b[0;32m    779\u001b[0m         \u001b[0mcompiler\u001b[0m \u001b[1;33m=\u001b[0m \u001b[1;34m\"nonXla\"\u001b[0m\u001b[1;33m\u001b[0m\u001b[1;33m\u001b[0m\u001b[0m\n\u001b[1;32m--> 780\u001b[1;33m         \u001b[0mresult\u001b[0m \u001b[1;33m=\u001b[0m \u001b[0mself\u001b[0m\u001b[1;33m.\u001b[0m\u001b[0m_call\u001b[0m\u001b[1;33m(\u001b[0m\u001b[1;33m*\u001b[0m\u001b[0margs\u001b[0m\u001b[1;33m,\u001b[0m \u001b[1;33m**\u001b[0m\u001b[0mkwds\u001b[0m\u001b[1;33m)\u001b[0m\u001b[1;33m\u001b[0m\u001b[1;33m\u001b[0m\u001b[0m\n\u001b[0m\u001b[0;32m    781\u001b[0m \u001b[1;33m\u001b[0m\u001b[0m\n\u001b[0;32m    782\u001b[0m       \u001b[0mnew_tracing_count\u001b[0m \u001b[1;33m=\u001b[0m \u001b[0mself\u001b[0m\u001b[1;33m.\u001b[0m\u001b[0m_get_tracing_count\u001b[0m\u001b[1;33m(\u001b[0m\u001b[1;33m)\u001b[0m\u001b[1;33m\u001b[0m\u001b[1;33m\u001b[0m\u001b[0m\n",
      "\u001b[1;32mc:\\users\\hetty\\anaconda3\\envs\\tensorflowgpu\\lib\\site-packages\\tensorflow\\python\\eager\\def_function.py\u001b[0m in \u001b[0;36m_call\u001b[1;34m(self, *args, **kwds)\u001b[0m\n\u001b[0;32m    812\u001b[0m       \u001b[1;31m# In this case we have not created variables on the first call. So we can\u001b[0m\u001b[1;33m\u001b[0m\u001b[1;33m\u001b[0m\u001b[1;33m\u001b[0m\u001b[0m\n\u001b[0;32m    813\u001b[0m       \u001b[1;31m# run the first trace but we should fail if variables are created.\u001b[0m\u001b[1;33m\u001b[0m\u001b[1;33m\u001b[0m\u001b[1;33m\u001b[0m\u001b[0m\n\u001b[1;32m--> 814\u001b[1;33m       \u001b[0mresults\u001b[0m \u001b[1;33m=\u001b[0m \u001b[0mself\u001b[0m\u001b[1;33m.\u001b[0m\u001b[0m_stateful_fn\u001b[0m\u001b[1;33m(\u001b[0m\u001b[1;33m*\u001b[0m\u001b[0margs\u001b[0m\u001b[1;33m,\u001b[0m \u001b[1;33m**\u001b[0m\u001b[0mkwds\u001b[0m\u001b[1;33m)\u001b[0m\u001b[1;33m\u001b[0m\u001b[1;33m\u001b[0m\u001b[0m\n\u001b[0m\u001b[0;32m    815\u001b[0m       \u001b[1;32mif\u001b[0m \u001b[0mself\u001b[0m\u001b[1;33m.\u001b[0m\u001b[0m_created_variables\u001b[0m\u001b[1;33m:\u001b[0m\u001b[1;33m\u001b[0m\u001b[1;33m\u001b[0m\u001b[0m\n\u001b[0;32m    816\u001b[0m         raise ValueError(\"Creating variables on a non-first call to a function\"\n",
      "\u001b[1;32mc:\\users\\hetty\\anaconda3\\envs\\tensorflowgpu\\lib\\site-packages\\tensorflow\\python\\eager\\function.py\u001b[0m in \u001b[0;36m__call__\u001b[1;34m(self, *args, **kwargs)\u001b[0m\n\u001b[0;32m   2827\u001b[0m     \u001b[1;32mwith\u001b[0m \u001b[0mself\u001b[0m\u001b[1;33m.\u001b[0m\u001b[0m_lock\u001b[0m\u001b[1;33m:\u001b[0m\u001b[1;33m\u001b[0m\u001b[1;33m\u001b[0m\u001b[0m\n\u001b[0;32m   2828\u001b[0m       \u001b[0mgraph_function\u001b[0m\u001b[1;33m,\u001b[0m \u001b[0margs\u001b[0m\u001b[1;33m,\u001b[0m \u001b[0mkwargs\u001b[0m \u001b[1;33m=\u001b[0m \u001b[0mself\u001b[0m\u001b[1;33m.\u001b[0m\u001b[0m_maybe_define_function\u001b[0m\u001b[1;33m(\u001b[0m\u001b[0margs\u001b[0m\u001b[1;33m,\u001b[0m \u001b[0mkwargs\u001b[0m\u001b[1;33m)\u001b[0m\u001b[1;33m\u001b[0m\u001b[1;33m\u001b[0m\u001b[0m\n\u001b[1;32m-> 2829\u001b[1;33m     \u001b[1;32mreturn\u001b[0m \u001b[0mgraph_function\u001b[0m\u001b[1;33m.\u001b[0m\u001b[0m_filtered_call\u001b[0m\u001b[1;33m(\u001b[0m\u001b[0margs\u001b[0m\u001b[1;33m,\u001b[0m \u001b[0mkwargs\u001b[0m\u001b[1;33m)\u001b[0m  \u001b[1;31m# pylint: disable=protected-access\u001b[0m\u001b[1;33m\u001b[0m\u001b[1;33m\u001b[0m\u001b[0m\n\u001b[0m\u001b[0;32m   2830\u001b[0m \u001b[1;33m\u001b[0m\u001b[0m\n\u001b[0;32m   2831\u001b[0m   \u001b[1;33m@\u001b[0m\u001b[0mproperty\u001b[0m\u001b[1;33m\u001b[0m\u001b[1;33m\u001b[0m\u001b[0m\n",
      "\u001b[1;32mc:\\users\\hetty\\anaconda3\\envs\\tensorflowgpu\\lib\\site-packages\\tensorflow\\python\\eager\\function.py\u001b[0m in \u001b[0;36m_filtered_call\u001b[1;34m(self, args, kwargs, cancellation_manager)\u001b[0m\n\u001b[0;32m   1841\u001b[0m       \u001b[0;31m`\u001b[0m\u001b[0margs\u001b[0m\u001b[0;31m`\u001b[0m \u001b[1;32mand\u001b[0m\u001b[0;31m \u001b[0m\u001b[0;31m`\u001b[0m\u001b[0mkwargs\u001b[0m\u001b[0;31m`\u001b[0m\u001b[1;33m.\u001b[0m\u001b[1;33m\u001b[0m\u001b[1;33m\u001b[0m\u001b[0m\n\u001b[0;32m   1842\u001b[0m     \"\"\"\n\u001b[1;32m-> 1843\u001b[1;33m     return self._call_flat(\n\u001b[0m\u001b[0;32m   1844\u001b[0m         [t for t in nest.flatten((args, kwargs), expand_composites=True)\n\u001b[0;32m   1845\u001b[0m          if isinstance(t, (ops.Tensor,\n",
      "\u001b[1;32mc:\\users\\hetty\\anaconda3\\envs\\tensorflowgpu\\lib\\site-packages\\tensorflow\\python\\eager\\function.py\u001b[0m in \u001b[0;36m_call_flat\u001b[1;34m(self, args, captured_inputs, cancellation_manager)\u001b[0m\n\u001b[0;32m   1921\u001b[0m         and executing_eagerly):\n\u001b[0;32m   1922\u001b[0m       \u001b[1;31m# No tape is watching; skip to running the function.\u001b[0m\u001b[1;33m\u001b[0m\u001b[1;33m\u001b[0m\u001b[1;33m\u001b[0m\u001b[0m\n\u001b[1;32m-> 1923\u001b[1;33m       return self._build_call_outputs(self._inference_function.call(\n\u001b[0m\u001b[0;32m   1924\u001b[0m           ctx, args, cancellation_manager=cancellation_manager))\n\u001b[0;32m   1925\u001b[0m     forward_backward = self._select_forward_and_backward_functions(\n",
      "\u001b[1;32mc:\\users\\hetty\\anaconda3\\envs\\tensorflowgpu\\lib\\site-packages\\tensorflow\\python\\eager\\function.py\u001b[0m in \u001b[0;36mcall\u001b[1;34m(self, ctx, args, cancellation_manager)\u001b[0m\n\u001b[0;32m    543\u001b[0m       \u001b[1;32mwith\u001b[0m \u001b[0m_InterpolateFunctionError\u001b[0m\u001b[1;33m(\u001b[0m\u001b[0mself\u001b[0m\u001b[1;33m)\u001b[0m\u001b[1;33m:\u001b[0m\u001b[1;33m\u001b[0m\u001b[1;33m\u001b[0m\u001b[0m\n\u001b[0;32m    544\u001b[0m         \u001b[1;32mif\u001b[0m \u001b[0mcancellation_manager\u001b[0m \u001b[1;32mis\u001b[0m \u001b[1;32mNone\u001b[0m\u001b[1;33m:\u001b[0m\u001b[1;33m\u001b[0m\u001b[1;33m\u001b[0m\u001b[0m\n\u001b[1;32m--> 545\u001b[1;33m           outputs = execute.execute(\n\u001b[0m\u001b[0;32m    546\u001b[0m               \u001b[0mstr\u001b[0m\u001b[1;33m(\u001b[0m\u001b[0mself\u001b[0m\u001b[1;33m.\u001b[0m\u001b[0msignature\u001b[0m\u001b[1;33m.\u001b[0m\u001b[0mname\u001b[0m\u001b[1;33m)\u001b[0m\u001b[1;33m,\u001b[0m\u001b[1;33m\u001b[0m\u001b[1;33m\u001b[0m\u001b[0m\n\u001b[0;32m    547\u001b[0m               \u001b[0mnum_outputs\u001b[0m\u001b[1;33m=\u001b[0m\u001b[0mself\u001b[0m\u001b[1;33m.\u001b[0m\u001b[0m_num_outputs\u001b[0m\u001b[1;33m,\u001b[0m\u001b[1;33m\u001b[0m\u001b[1;33m\u001b[0m\u001b[0m\n",
      "\u001b[1;32mc:\\users\\hetty\\anaconda3\\envs\\tensorflowgpu\\lib\\site-packages\\tensorflow\\python\\eager\\execute.py\u001b[0m in \u001b[0;36mquick_execute\u001b[1;34m(op_name, num_outputs, inputs, attrs, ctx, name)\u001b[0m\n\u001b[0;32m     57\u001b[0m   \u001b[1;32mtry\u001b[0m\u001b[1;33m:\u001b[0m\u001b[1;33m\u001b[0m\u001b[1;33m\u001b[0m\u001b[0m\n\u001b[0;32m     58\u001b[0m     \u001b[0mctx\u001b[0m\u001b[1;33m.\u001b[0m\u001b[0mensure_initialized\u001b[0m\u001b[1;33m(\u001b[0m\u001b[1;33m)\u001b[0m\u001b[1;33m\u001b[0m\u001b[1;33m\u001b[0m\u001b[0m\n\u001b[1;32m---> 59\u001b[1;33m     tensors = pywrap_tfe.TFE_Py_Execute(ctx._handle, device_name, op_name,\n\u001b[0m\u001b[0;32m     60\u001b[0m                                         inputs, attrs, num_outputs)\n\u001b[0;32m     61\u001b[0m   \u001b[1;32mexcept\u001b[0m \u001b[0mcore\u001b[0m\u001b[1;33m.\u001b[0m\u001b[0m_NotOkStatusException\u001b[0m \u001b[1;32mas\u001b[0m \u001b[0me\u001b[0m\u001b[1;33m:\u001b[0m\u001b[1;33m\u001b[0m\u001b[1;33m\u001b[0m\u001b[0m\n",
      "\u001b[1;31mKeyboardInterrupt\u001b[0m: "
     ]
    }
   ],
   "source": [
    "from tensorflow.keras.callbacks import ModelCheckpoint, EarlyStopping\n",
    "# checkpoint = ModelCheckpoint(\"vgg16_1.h5\", monitor='val_acc', verbose=1, save_best_only=True, save_weights_only=False, mode='auto', period=1)\n",
    "# early = EarlyStopping(monitor='val_acc', min_delta=0, patience=20, verbose=1, mode='auto')\n",
    "hist = model.fit_generator(steps_per_epoch=100,\n",
    "                           generator=train_batches, \n",
    "                           validation_data= valid_batches, \n",
    "                           validation_steps=100,\n",
    "                           epochs=100,\n",
    "#                            callbacks=[checkpoint,early],\n",
    "                           verbose=2)\n",
    "model.save('my_model.h5')"
   ]
  },
  {
   "cell_type": "code",
   "execution_count": 97,
   "metadata": {},
   "outputs": [],
   "source": [
    "import matplotlib.pyplot as plt\n",
    "\n",
    "def plot_accuracy_and_loss(history):\n",
    "    acc = history.history['accuracy']\n",
    "    val_acc = history.history['val_accuracy']\n",
    "    loss = history.history['loss']\n",
    "    val_loss = history.history['val_loss']\n",
    "\n",
    "    epochs = range(1, len(acc) + 1)\n",
    "\n",
    "    plt.plot(epochs, acc, 'bo', label='Training acc')\n",
    "    plt.plot(epochs, val_acc, 'b', label='Validation acc')\n",
    "    plt.title('Training and validation accuracy')\n",
    "    plt.legend()\n",
    "    plt.show()\n",
    "\n",
    "    plt.plot(epochs, loss, 'bo', label='Training loss')\n",
    "    plt.plot(epochs, val_loss, 'b', label='Validation loss')\n",
    "    plt.title('Training and validation loss')\n",
    "    plt.legend()\n",
    "    plt.show()"
   ]
  },
  {
   "cell_type": "code",
   "execution_count": 98,
   "metadata": {},
   "outputs": [
    {
     "data": {
      "image/png": "[encoded data removed]",
      "text/plain": [
       "<Figure size 432x288 with 1 Axes>"
      ]
     },
     "metadata": {
      "needs_background": "light"
     },
     "output_type": "display_data"
    },
    {
     "data": {
      "image/png": "[encoded data removed]",
      "text/plain": [
       "<Figure size 432x288 with 1 Axes>"
      ]
     },
     "metadata": {
      "needs_background": "light"
     },
     "output_type": "display_data"
    }
   ],
   "source": [
    "plot_accuracy_and_loss(hist)"
   ]
  },
  {
   "cell_type": "code",
   "execution_count": null,
   "metadata": {},
   "outputs": [],
   "source": []
  },
  {
   "cell_type": "code",
   "execution_count": 99,
   "metadata": {},
   "outputs": [
    {
     "name": "stdout",
     "output_type": "stream",
     "text": [
      "2500/2500 [==============================] - 7s 3ms/step - loss: 0.9080 - accuracy: 0.7572 - f1_m: 0.7578 - precision_m: 0.7858 - recall_m: 0.7380\n"
     ]
    }
   ],
   "source": [
    "loss, accuracy, f1_score, precision, recall = model.evaluate_generator(generator=valid_batches,verbose=1)"
   ]
  },
  {
   "cell_type": "code",
   "execution_count": null,
   "metadata": {},
   "outputs": [],
   "source": []
  },
  {
   "cell_type": "code",
   "execution_count": null,
   "metadata": {},
   "outputs": [],
   "source": [
    "# cls_list = ['dogs', 'cats']\n",
    "# img = Image.open('train/cat.8439.jpg')\n",
    "# arr = np.asarray(img, dtype=\"float32\")\n",
    "# arr.resize((1,224,224,3))\n",
    "# predict = model.predict_classes(arr)[0]\n",
    "# print ('識別爲：')\n",
    "# print (f'predict={predict} class={cls_list[predict]}')\n",
    "# plt.imshow(img)\n",
    "# plt.show"
   ]
  },
  {
   "cell_type": "code",
   "execution_count": null,
   "metadata": {},
   "outputs": [],
   "source": []
  },
  {
   "cell_type": "code",
   "execution_count": 11,
   "metadata": {},
   "outputs": [],
   "source": [
    "from numba import cuda\n",
    "cuda.select_device(0)\n",
    "cuda.close()"
   ]
  },
  {
   "cell_type": "code",
   "execution_count": null,
   "metadata": {},
   "outputs": [],
   "source": []
  },
  {
   "cell_type": "code",
   "execution_count": null,
   "metadata": {},
   "outputs": [],
   "source": []
  },
  {
   "cell_type": "code",
   "execution_count": null,
   "metadata": {},
   "outputs": [],
   "source": []
  },
  {
   "cell_type": "code",
   "execution_count": null,
   "metadata": {},
   "outputs": [],
   "source": []
  },
  {
   "cell_type": "code",
   "execution_count": null,
   "metadata": {},
   "outputs": [],
   "source": []
  }
 ],
 "metadata": {
  "kernelspec": {
   "display_name": "Python 3",
   "language": "python",
   "name": "python3"
  },
  "language_info": {
   "codemirror_mode": {
    "name": "ipython",
    "version": 3
   },
   "file_extension": ".py",
   "mimetype": "text/x-python",
   "name": "python",
   "nbconvert_exporter": "python",
   "pygments_lexer": "ipython3",
   "version": "3.8.8"
  }
 },
 "nbformat": 4,
 "nbformat_minor": 4
}
