{
 "cells": [
  {
   "cell_type": "code",
   "execution_count": 2,
   "metadata": {
    "pycharm": {
     "is_executing": true
    }
   },
   "outputs": [],
   "source": [
    "import warnings\n",
    "warnings.filterwarnings('ignore')"
   ]
  },
  {
   "cell_type": "code",
   "execution_count": 3,
   "metadata": {},
   "outputs": [
    {
     "name": "stdout",
     "output_type": "stream",
     "text": [
      "tf=2.3.0\n",
      "keras=2.4.0\n",
      "1 Physical GPUs, 1 Logical GPUs\n"
     ]
    }
   ],
   "source": [
    "#import tensorflow.compat.v1 as tf\n",
    "#tf.disable_v2_behavior()\n",
    "import tensorflow as tf\n",
    "print(f'tf={tf.__version__}')\n",
    "from tensorflow import keras\n",
    "print(f'keras={keras.__version__}')\n",
    "def solve_cudnn_error():\n",
    "    gpus = tf.config.experimental.list_physical_devices('GPU')\n",
    "    if gpus:\n",
    "        try:\n",
    "            # Currently, memory growth needs to be the same across GPUs\n",
    "            for gpu in gpus:\n",
    "                tf.config.experimental.set_memory_growth(gpu, True)\n",
    "            logical_gpus = tf.config.experimental.list_logical_devices('GPU')\n",
    "            print(len(gpus), \"Physical GPUs,\", len(logical_gpus), \"Logical GPUs\")\n",
    "        except RuntimeError as e:\n",
    "            # Memory growth must be set before GPUs have been initialized\n",
    "            print(e)\n",
    "solve_cudnn_error()"
   ]
  },
  {
   "cell_type": "code",
   "execution_count": 4,
   "metadata": {},
   "outputs": [],
   "source": [
    "import os  # 處理字串路徑\n",
    "import glob  # 查詢檔案\n",
    "import numpy as np\n",
    "import tensorflow.keras as keras\n",
    "from tensorflow.keras import backend as K\n",
    "from tensorflow.keras.models import Sequential\n",
    "from tensorflow.keras.layers import Activation\n",
    "from tensorflow.keras.layers import Dense, Flatten\n",
    "from tensorflow.keras.optimizers import Adam\n",
    "from tensorflow.keras.metrics import categorical_crossentropy\n",
    "from tensorflow.keras.preprocessing.image import ImageDataGenerator\n",
    "from tensorflow.keras.layers import BatchNormalization\n",
    "from tensorflow.keras.layers import *\n",
    "from sklearn.metrics import confusion_matrix\n",
    "from tensorflow.keras.models import load_model\n",
    "import itertools\n",
    "import matplotlib.pyplot as plt\n",
    "from PIL import Image"
   ]
  },
  {
   "cell_type": "code",
   "execution_count": 5,
   "metadata": {},
   "outputs": [],
   "source": [
    "from tensorflow.keras import backend as K\n",
    "\n",
    "def recall_m(y_true, y_pred):\n",
    "    true_positives = K.sum(K.round(K.clip(y_true * y_pred, 0, 1)))\n",
    "    possible_positives = K.sum(K.round(K.clip(y_true, 0, 1)))\n",
    "    recall = true_positives / (possible_positives + K.epsilon())\n",
    "    return recall\n",
    "\n",
    "def precision_m(y_true, y_pred):\n",
    "    true_positives = K.sum(K.round(K.clip(y_true * y_pred, 0, 1)))\n",
    "    predicted_positives = K.sum(K.round(K.clip(y_pred, 0, 1)))\n",
    "    precision = true_positives / (predicted_positives + K.epsilon())\n",
    "    return precision\n",
    "\n",
    "def f1_m(y_true, y_pred):\n",
    "    precision = precision_m(y_true, y_pred)\n",
    "    recall = recall_m(y_true, y_pred)\n",
    "    return 2*((precision*recall)/(precision+recall+K.epsilon()))"
   ]
  },
  {
   "cell_type": "code",
   "execution_count": null,
   "metadata": {},
   "outputs": [],
   "source": []
  },
  {
   "cell_type": "code",
   "execution_count": 6,
   "metadata": {},
   "outputs": [],
   "source": [
    "train_path = 'CIFAR10/train'\n",
    "valid_path = 'CIFAR10/test'\n",
    "test_path = 'CIFAR10/test'"
   ]
  },
  {
   "cell_type": "code",
   "execution_count": 7,
   "metadata": {},
   "outputs": [],
   "source": [
    "train_datagen = ImageDataGenerator(\n",
    "#     rotation_range=40,\n",
    "#     width_shift_range=0.2,\n",
    "#     height_shift_range=0.2,\n",
    "#     shear_range=0.2,\n",
    "#     zoom_range=0.2,\n",
    "#     horizontal_flip=True,\n",
    "#     fill_mode='nearest'\n",
    ")"
   ]
  },
  {
   "cell_type": "code",
   "execution_count": 8,
   "metadata": {},
   "outputs": [
    {
     "name": "stdout",
     "output_type": "stream",
     "text": [
      "Found 50000 images belonging to 10 classes.\n",
      "Found 10000 images belonging to 10 classes.\n",
      "Found 10000 images belonging to 10 classes.\n"
     ]
    }
   ],
   "source": [
    "train_batches = train_datagen.flow_from_directory(train_path, target_size=(128,128), \n",
    "                                                         classes=['airplane',\n",
    "                                                                  'automobile',\n",
    "                                                                  'bird',\n",
    "                                                                  'cat',\n",
    "                                                                  'deer',\n",
    "                                                                  'dog',\n",
    "                                                                  'frog',\n",
    "                                                                  'horse',\n",
    "                                                                  'ship',\n",
    "                                                                  'truck'], batch_size=4)\n",
    "valid_batches = ImageDataGenerator().flow_from_directory(valid_path, target_size=(128,128), \n",
    "                                                         classes=['airplane',\n",
    "                                                                  'automobile',\n",
    "                                                                  'bird',\n",
    "                                                                  'cat',\n",
    "                                                                  'deer',\n",
    "                                                                  'dog',\n",
    "                                                                  'frog',\n",
    "                                                                  'horse',\n",
    "                                                                  'ship',\n",
    "                                                                  'truck'], batch_size=4)\n",
    "test_batches = ImageDataGenerator().flow_from_directory(test_path, target_size=(128,128), \n",
    "                                                        classes=['airplane',\n",
    "                                                                  'automobile',\n",
    "                                                                  'bird',\n",
    "                                                                  'cat',\n",
    "                                                                  'deer',\n",
    "                                                                  'dog',\n",
    "                                                                  'frog',\n",
    "                                                                  'horse',\n",
    "                                                                  'ship',\n",
    "                                                                  'truck'], batch_size=4)"
   ]
  },
  {
   "cell_type": "code",
   "execution_count": 9,
   "metadata": {},
   "outputs": [
    {
     "name": "stdout",
     "output_type": "stream",
     "text": [
      "Model: \"VGG16\"\n",
      "_________________________________________________________________\n",
      "Layer (type)                 Output Shape              Param #   \n",
      "=================================================================\n",
      "block1_conv1 (Conv2D)        (None, 128, 128, 64)      1792      \n",
      "_________________________________________________________________\n",
      "block1_conv2 (Conv2D)        (None, 128, 128, 64)      36928     \n",
      "_________________________________________________________________\n",
      "max_pooling2d (MaxPooling2D) (None, 64, 64, 64)        0         \n",
      "_________________________________________________________________\n",
      "block2_conv1 (Conv2D)        (None, 64, 64, 128)       73856     \n",
      "_________________________________________________________________\n",
      "block2_conv2 (Conv2D)        (None, 64, 64, 128)       147584    \n",
      "_________________________________________________________________\n",
      "max_pooling2d_1 (MaxPooling2 (None, 32, 32, 128)       0         \n",
      "_________________________________________________________________\n",
      "block3_conv1 (Conv2D)        (None, 32, 32, 256)       295168    \n",
      "_________________________________________________________________\n",
      "block3_conv2 (Conv2D)        (None, 32, 32, 256)       590080    \n",
      "_________________________________________________________________\n",
      "block3_conv3 (Conv2D)        (None, 32, 32, 256)       590080    \n",
      "_________________________________________________________________\n",
      "max_pooling2d_2 (MaxPooling2 (None, 16, 16, 256)       0         \n",
      "_________________________________________________________________\n",
      "block4_conv1 (Conv2D)        (None, 16, 16, 512)       1180160   \n",
      "_________________________________________________________________\n",
      "block4_conv2 (Conv2D)        (None, 16, 16, 512)       2359808   \n",
      "_________________________________________________________________\n",
      "block4_conv3 (Conv2D)        (None, 16, 16, 512)       2359808   \n",
      "_________________________________________________________________\n",
      "max_pooling2d_3 (MaxPooling2 (None, 8, 8, 512)         0         \n",
      "_________________________________________________________________\n",
      "block5_conv1 (Conv2D)        (None, 8, 8, 512)         2359808   \n",
      "_________________________________________________________________\n",
      "block5_conv2 (Conv2D)        (None, 8, 8, 512)         2359808   \n",
      "_________________________________________________________________\n",
      "block5_conv3 (Conv2D)        (None, 8, 8, 512)         2359808   \n",
      "_________________________________________________________________\n",
      "max_pooling2d_4 (MaxPooling2 (None, 4, 4, 512)         0         \n",
      "_________________________________________________________________\n",
      "flatten (Flatten)            (None, 8192)              0         \n",
      "_________________________________________________________________\n",
      "fc1 (Dense)                  (None, 4096)              33558528  \n",
      "_________________________________________________________________\n",
      "dropout (Dropout)            (None, 4096)              0         \n",
      "_________________________________________________________________\n",
      "fc2 (Dense)                  (None, 4096)              16781312  \n",
      "_________________________________________________________________\n",
      "dropout_1 (Dropout)          (None, 4096)              0         \n",
      "_________________________________________________________________\n",
      "predictions (Dense)          (None, 10)                40970     \n",
      "=================================================================\n",
      "Total params: 65,095,498\n",
      "Trainable params: 65,095,498\n",
      "Non-trainable params: 0\n",
      "_________________________________________________________________\n"
     ]
    }
   ],
   "source": [
    "model = Sequential(name='VGG16')\n",
    "model.add(Convolution2D(64,(3, 3), activation='relu',name='block1_conv1',padding='same',input_shape=(128, 128, 3)))\n",
    "# model.add(ZeroPadding2D((1,1)))\n",
    "model.add(Convolution2D(64,(3, 3), activation='relu',name='block1_conv2',padding='same'))\n",
    "model.add(MaxPooling2D(pool_size=(2, 2)))\n",
    "\n",
    "# model.add(ZeroPadding2D((1,1)))\n",
    "model.add(Convolution2D(128,(3, 3), activation='relu',name='block2_conv1',padding='same'))\n",
    "# model.add(ZeroPadding2D((1,1)))\n",
    "model.add(Convolution2D(128,(3, 3), activation='relu',name='block2_conv2',padding='same'))\n",
    "model.add(MaxPooling2D(pool_size=(2, 2)))\n",
    "\n",
    "# model.add(ZeroPadding2D((1,1)))\n",
    "model.add(Convolution2D(256,(3, 3), activation='relu',name='block3_conv1',padding='same'))\n",
    "# model.add(ZeroPadding2D((1,1)))\n",
    "model.add(Convolution2D(256,(3, 3), activation='relu',name='block3_conv2',padding='same'))\n",
    "# model.add(ZeroPadding2D((1,1)))\n",
    "model.add(Convolution2D(256,(3, 3), activation='relu',name='block3_conv3',padding='same'))\n",
    "model.add(MaxPooling2D(pool_size=(2, 2)))\n",
    "\n",
    "# model.add(ZeroPadding2D((1,1)))\n",
    "model.add(Convolution2D(512,(3, 3), activation='relu',name='block4_conv1',padding='same'))\n",
    "# model.add(ZeroPadding2D((1,1)))\n",
    "model.add(Convolution2D(512,(3, 3), activation='relu',name='block4_conv2',padding='same'))\n",
    "# model.add(ZeroPadding2D((1,1)))\n",
    "model.add(Convolution2D(512,(3, 3), activation='relu',name='block4_conv3',padding='same'))\n",
    "model.add(MaxPooling2D(pool_size=(2, 2)))\n",
    "\n",
    "# model.add(ZeroPadding2D((1,1)))\n",
    "model.add(Convolution2D(512,(3, 3), activation='relu',name='block5_conv1',padding='same'))\n",
    "# model.add(ZeroPadding2D((1,1)))\n",
    "model.add(Convolution2D(512,(3, 3), activation='relu',name='block5_conv2',padding='same'))\n",
    "# model.add(ZeroPadding2D((1,1)))\n",
    "model.add(Convolution2D(512,(3, 3), activation='relu',name='block5_conv3',padding='same'))\n",
    "model.add(MaxPooling2D(pool_size=(2, 2)))\n",
    "\n",
    "model.add(Flatten(name='flatten'))\n",
    "model.add(Dense(4096, activation='relu',name='fc1'))\n",
    "model.add(Dropout(0.2))\n",
    "model.add(Dense(4096, activation='relu',name='fc2'))\n",
    "model.add(Dropout(0.2))\n",
    "model.add(Dense(10, activation='softmax',name='predictions'))\n",
    "model.summary()"
   ]
  },
  {
   "cell_type": "code",
   "execution_count": 10,
   "metadata": {},
   "outputs": [],
   "source": [
    "model.compile(Adam(lr=.00002122), loss='categorical_crossentropy', metrics=['accuracy',f1_m,precision_m, recall_m])\n",
    "#sgd = SGD(lr=.00002122, decay=1e-6, momentum=0.9, nesterov=True)\n",
    "#model.compile(optimizer=sgd, loss='categorical_crossentropy',metrics=['accuracy'])"
   ]
  },
  {
   "cell_type": "code",
   "execution_count": 11,
   "metadata": {},
   "outputs": [
    {
     "name": "stdout",
     "output_type": "stream",
     "text": [
      "WARNING:tensorflow:From <ipython-input-11-6eafdd6430b3>:4: Model.fit_generator (from tensorflow.python.keras.engine.training) is deprecated and will be removed in a future version.\n",
      "Instructions for updating:\n",
      "Please use Model.fit, which supports generators.\n",
      "Epoch 1/50\n",
      "WARNING:tensorflow:Callbacks method `on_train_batch_end` is slow compared to the batch time (batch time: 0.0310s vs `on_train_batch_end` time: 0.0851s). Check your callbacks.\n",
      "20/20 - 4s - loss: 2.3858 - accuracy: 0.1250 - f1_m: 0.0000e+00 - precision_m: 0.0000e+00 - recall_m: 0.0000e+00 - val_loss: 2.3665 - val_accuracy: 0.1500 - val_f1_m: 0.0000e+00 - val_precision_m: 0.0000e+00 - val_recall_m: 0.0000e+00\n",
      "Epoch 2/50\n",
      "20/20 - 3s - loss: 2.2960 - accuracy: 0.1750 - f1_m: 0.0000e+00 - precision_m: 0.0000e+00 - recall_m: 0.0000e+00 - val_loss: 2.3266 - val_accuracy: 0.1000 - val_f1_m: 0.0000e+00 - val_precision_m: 0.0000e+00 - val_recall_m: 0.0000e+00\n",
      "Epoch 3/50\n",
      "20/20 - 3s - loss: 2.3242 - accuracy: 0.0750 - f1_m: 0.0000e+00 - precision_m: 0.0000e+00 - recall_m: 0.0000e+00 - val_loss: 2.3016 - val_accuracy: 0.1000 - val_f1_m: 0.0000e+00 - val_precision_m: 0.0000e+00 - val_recall_m: 0.0000e+00\n",
      "Epoch 4/50\n",
      "20/20 - 3s - loss: 2.3324 - accuracy: 0.1000 - f1_m: 0.0000e+00 - precision_m: 0.0000e+00 - recall_m: 0.0000e+00 - val_loss: 2.3017 - val_accuracy: 0.1000 - val_f1_m: 0.0000e+00 - val_precision_m: 0.0000e+00 - val_recall_m: 0.0000e+00\n",
      "Epoch 5/50\n",
      "20/20 - 3s - loss: 2.2789 - accuracy: 0.1625 - f1_m: 0.0000e+00 - precision_m: 0.0000e+00 - recall_m: 0.0000e+00 - val_loss: 2.3124 - val_accuracy: 0.1500 - val_f1_m: 0.0000e+00 - val_precision_m: 0.0000e+00 - val_recall_m: 0.0000e+00\n",
      "Epoch 6/50\n",
      "20/20 - 3s - loss: 2.3054 - accuracy: 0.0875 - f1_m: 0.0000e+00 - precision_m: 0.0000e+00 - recall_m: 0.0000e+00 - val_loss: 2.2489 - val_accuracy: 0.2000 - val_f1_m: 0.0000e+00 - val_precision_m: 0.0000e+00 - val_recall_m: 0.0000e+00\n",
      "Epoch 7/50\n",
      "20/20 - 3s - loss: 2.2930 - accuracy: 0.0750 - f1_m: 0.0000e+00 - precision_m: 0.0000e+00 - recall_m: 0.0000e+00 - val_loss: 2.3399 - val_accuracy: 0.0000e+00 - val_f1_m: 0.0000e+00 - val_precision_m: 0.0000e+00 - val_recall_m: 0.0000e+00\n",
      "Epoch 8/50\n",
      "20/20 - 3s - loss: 2.3064 - accuracy: 0.1000 - f1_m: 0.0000e+00 - precision_m: 0.0000e+00 - recall_m: 0.0000e+00 - val_loss: 2.2781 - val_accuracy: 0.1000 - val_f1_m: 0.0000e+00 - val_precision_m: 0.0000e+00 - val_recall_m: 0.0000e+00\n",
      "Epoch 9/50\n",
      "20/20 - 3s - loss: 2.2795 - accuracy: 0.1375 - f1_m: 0.0000e+00 - precision_m: 0.0000e+00 - recall_m: 0.0000e+00 - val_loss: 2.2331 - val_accuracy: 0.1500 - val_f1_m: 0.0000e+00 - val_precision_m: 0.0000e+00 - val_recall_m: 0.0000e+00\n",
      "Epoch 10/50\n",
      "20/20 - 3s - loss: 2.2637 - accuracy: 0.1875 - f1_m: 0.0200 - precision_m: 0.0500 - recall_m: 0.0125 - val_loss: 2.5484 - val_accuracy: 0.0000e+00 - val_f1_m: 0.0000e+00 - val_precision_m: 0.0000e+00 - val_recall_m: 0.0000e+00\n",
      "Epoch 11/50\n",
      "20/20 - 3s - loss: 2.2259 - accuracy: 0.1125 - f1_m: 0.0000e+00 - precision_m: 0.0000e+00 - recall_m: 0.0000e+00 - val_loss: 2.2552 - val_accuracy: 0.1000 - val_f1_m: 0.0000e+00 - val_precision_m: 0.0000e+00 - val_recall_m: 0.0000e+00\n",
      "Epoch 12/50\n",
      "20/20 - 3s - loss: 2.2513 - accuracy: 0.1500 - f1_m: 0.0000e+00 - precision_m: 0.0000e+00 - recall_m: 0.0000e+00 - val_loss: 2.1552 - val_accuracy: 0.2000 - val_f1_m: 0.0000e+00 - val_precision_m: 0.0000e+00 - val_recall_m: 0.0000e+00\n",
      "Epoch 13/50\n",
      "20/20 - 3s - loss: 2.2173 - accuracy: 0.1875 - f1_m: 0.0000e+00 - precision_m: 0.0000e+00 - recall_m: 0.0000e+00 - val_loss: 2.0857 - val_accuracy: 0.1500 - val_f1_m: 0.0000e+00 - val_precision_m: 0.0000e+00 - val_recall_m: 0.0000e+00\n",
      "Epoch 14/50\n",
      "20/20 - 3s - loss: 2.2503 - accuracy: 0.1875 - f1_m: 0.0000e+00 - precision_m: 0.0000e+00 - recall_m: 0.0000e+00 - val_loss: 2.2494 - val_accuracy: 0.1500 - val_f1_m: 0.0800 - val_precision_m: 0.2000 - val_recall_m: 0.0500\n",
      "Epoch 15/50\n",
      "20/20 - 3s - loss: 2.2073 - accuracy: 0.1125 - f1_m: 0.0000e+00 - precision_m: 0.0000e+00 - recall_m: 0.0000e+00 - val_loss: 2.1622 - val_accuracy: 0.2500 - val_f1_m: 0.0000e+00 - val_precision_m: 0.0000e+00 - val_recall_m: 0.0000e+00\n",
      "Epoch 16/50\n",
      "20/20 - 3s - loss: 2.1971 - accuracy: 0.2000 - f1_m: 0.0000e+00 - precision_m: 0.0000e+00 - recall_m: 0.0000e+00 - val_loss: 2.1670 - val_accuracy: 0.1500 - val_f1_m: 0.0000e+00 - val_precision_m: 0.0000e+00 - val_recall_m: 0.0000e+00\n",
      "Epoch 17/50\n",
      "20/20 - 3s - loss: 2.1436 - accuracy: 0.1875 - f1_m: 0.0000e+00 - precision_m: 0.0000e+00 - recall_m: 0.0000e+00 - val_loss: 2.1496 - val_accuracy: 0.1500 - val_f1_m: 0.0000e+00 - val_precision_m: 0.0000e+00 - val_recall_m: 0.0000e+00\n",
      "Epoch 18/50\n",
      "20/20 - 3s - loss: 2.0399 - accuracy: 0.2500 - f1_m: 0.0000e+00 - precision_m: 0.0000e+00 - recall_m: 0.0000e+00 - val_loss: 2.0915 - val_accuracy: 0.1000 - val_f1_m: 0.0000e+00 - val_precision_m: 0.0000e+00 - val_recall_m: 0.0000e+00\n",
      "Epoch 19/50\n",
      "20/20 - 3s - loss: 2.1418 - accuracy: 0.2125 - f1_m: 0.0000e+00 - precision_m: 0.0000e+00 - recall_m: 0.0000e+00 - val_loss: 2.1816 - val_accuracy: 0.3500 - val_f1_m: 0.0000e+00 - val_precision_m: 0.0000e+00 - val_recall_m: 0.0000e+00\n",
      "Epoch 20/50\n",
      "20/20 - 3s - loss: 2.2154 - accuracy: 0.1125 - f1_m: 0.0000e+00 - precision_m: 0.0000e+00 - recall_m: 0.0000e+00 - val_loss: 2.1016 - val_accuracy: 0.1500 - val_f1_m: 0.0000e+00 - val_precision_m: 0.0000e+00 - val_recall_m: 0.0000e+00\n",
      "Epoch 21/50\n",
      "20/20 - 3s - loss: 2.2026 - accuracy: 0.1625 - f1_m: 0.0000e+00 - precision_m: 0.0000e+00 - recall_m: 0.0000e+00 - val_loss: 2.1793 - val_accuracy: 0.2000 - val_f1_m: 0.0000e+00 - val_precision_m: 0.0000e+00 - val_recall_m: 0.0000e+00\n",
      "Epoch 22/50\n",
      "20/20 - 3s - loss: 2.0147 - accuracy: 0.2375 - f1_m: 0.0200 - precision_m: 0.0500 - recall_m: 0.0125 - val_loss: 1.8471 - val_accuracy: 0.4000 - val_f1_m: 0.2400 - val_precision_m: 0.6000 - val_recall_m: 0.1500\n",
      "Epoch 23/50\n",
      "20/20 - 3s - loss: 2.1703 - accuracy: 0.2000 - f1_m: 0.0000e+00 - precision_m: 0.0000e+00 - recall_m: 0.0000e+00 - val_loss: 2.0653 - val_accuracy: 0.3000 - val_f1_m: 0.0000e+00 - val_precision_m: 0.0000e+00 - val_recall_m: 0.0000e+00\n",
      "Epoch 24/50\n",
      "20/20 - 3s - loss: 2.0418 - accuracy: 0.2250 - f1_m: 0.0000e+00 - precision_m: 0.0000e+00 - recall_m: 0.0000e+00 - val_loss: 2.0493 - val_accuracy: 0.2000 - val_f1_m: 0.0000e+00 - val_precision_m: 0.0000e+00 - val_recall_m: 0.0000e+00\n",
      "Epoch 25/50\n",
      "20/20 - 3s - loss: 2.1709 - accuracy: 0.2750 - f1_m: 0.0000e+00 - precision_m: 0.0000e+00 - recall_m: 0.0000e+00 - val_loss: 2.0519 - val_accuracy: 0.2500 - val_f1_m: 0.0000e+00 - val_precision_m: 0.0000e+00 - val_recall_m: 0.0000e+00\n",
      "Epoch 26/50\n",
      "20/20 - 3s - loss: 2.0861 - accuracy: 0.2625 - f1_m: 0.0167 - precision_m: 0.0250 - recall_m: 0.0125 - val_loss: 1.8042 - val_accuracy: 0.2500 - val_f1_m: 0.0800 - val_precision_m: 0.2000 - val_recall_m: 0.0500\n",
      "Epoch 27/50\n",
      "20/20 - 3s - loss: 2.1155 - accuracy: 0.2125 - f1_m: 0.0200 - precision_m: 0.0500 - recall_m: 0.0125 - val_loss: 2.1184 - val_accuracy: 0.1500 - val_f1_m: 0.0000e+00 - val_precision_m: 0.0000e+00 - val_recall_m: 0.0000e+00\n",
      "Epoch 28/50\n",
      "20/20 - 3s - loss: 2.0171 - accuracy: 0.3375 - f1_m: 0.0400 - precision_m: 0.1000 - recall_m: 0.0250 - val_loss: 1.9706 - val_accuracy: 0.1500 - val_f1_m: 0.0800 - val_precision_m: 0.2000 - val_recall_m: 0.0500\n",
      "Epoch 29/50\n",
      "20/20 - 3s - loss: 2.0157 - accuracy: 0.1750 - f1_m: 0.0800 - precision_m: 0.2000 - recall_m: 0.0500 - val_loss: 2.0169 - val_accuracy: 0.3000 - val_f1_m: 0.0000e+00 - val_precision_m: 0.0000e+00 - val_recall_m: 0.0000e+00\n",
      "Epoch 30/50\n",
      "20/20 - 3s - loss: 2.1293 - accuracy: 0.2000 - f1_m: 0.0000e+00 - precision_m: 0.0000e+00 - recall_m: 0.0000e+00 - val_loss: 1.9854 - val_accuracy: 0.3000 - val_f1_m: 0.0000e+00 - val_precision_m: 0.0000e+00 - val_recall_m: 0.0000e+00\n",
      "Epoch 31/50\n",
      "20/20 - 3s - loss: 2.0126 - accuracy: 0.2750 - f1_m: 0.0000e+00 - precision_m: 0.0000e+00 - recall_m: 0.0000e+00 - val_loss: 2.1120 - val_accuracy: 0.2000 - val_f1_m: 0.0000e+00 - val_precision_m: 0.0000e+00 - val_recall_m: 0.0000e+00\n",
      "Epoch 32/50\n",
      "20/20 - 3s - loss: 2.0750 - accuracy: 0.2250 - f1_m: 0.0200 - precision_m: 0.0500 - recall_m: 0.0125 - val_loss: 2.0071 - val_accuracy: 0.2500 - val_f1_m: 0.0000e+00 - val_precision_m: 0.0000e+00 - val_recall_m: 0.0000e+00\n"
     ]
    },
    {
     "name": "stdout",
     "output_type": "stream",
     "text": [
      "Epoch 33/50\n",
      "20/20 - 3s - loss: 2.0148 - accuracy: 0.2750 - f1_m: 0.0800 - precision_m: 0.2000 - recall_m: 0.0500 - val_loss: 1.6740 - val_accuracy: 0.3000 - val_f1_m: 0.0000e+00 - val_precision_m: 0.0000e+00 - val_recall_m: 0.0000e+00\n",
      "Epoch 34/50\n",
      "20/20 - 3s - loss: 2.0418 - accuracy: 0.2125 - f1_m: 0.0567 - precision_m: 0.1250 - recall_m: 0.0375 - val_loss: 1.9086 - val_accuracy: 0.2500 - val_f1_m: 0.0000e+00 - val_precision_m: 0.0000e+00 - val_recall_m: 0.0000e+00\n",
      "Epoch 35/50\n",
      "20/20 - 3s - loss: 2.1331 - accuracy: 0.2250 - f1_m: 0.0000e+00 - precision_m: 0.0000e+00 - recall_m: 0.0000e+00 - val_loss: 1.9556 - val_accuracy: 0.2000 - val_f1_m: 0.0000e+00 - val_precision_m: 0.0000e+00 - val_recall_m: 0.0000e+00\n",
      "Epoch 36/50\n",
      "20/20 - 3s - loss: 2.0211 - accuracy: 0.2500 - f1_m: 0.0200 - precision_m: 0.0500 - recall_m: 0.0125 - val_loss: 1.6476 - val_accuracy: 0.3500 - val_f1_m: 0.0800 - val_precision_m: 0.2000 - val_recall_m: 0.0500\n",
      "Epoch 37/50\n",
      "20/20 - 3s - loss: 1.9810 - accuracy: 0.2125 - f1_m: 0.0200 - precision_m: 0.0500 - recall_m: 0.0125 - val_loss: 1.6896 - val_accuracy: 0.3500 - val_f1_m: 0.1600 - val_precision_m: 0.4000 - val_recall_m: 0.1000\n",
      "Epoch 38/50\n",
      "20/20 - 3s - loss: 1.8944 - accuracy: 0.3000 - f1_m: 0.0767 - precision_m: 0.1750 - recall_m: 0.0500 - val_loss: 2.4570 - val_accuracy: 0.1000 - val_f1_m: 0.0000e+00 - val_precision_m: 0.0000e+00 - val_recall_m: 0.0000e+00\n",
      "Epoch 39/50\n",
      "20/20 - 3s - loss: 1.7708 - accuracy: 0.4375 - f1_m: 0.1633 - precision_m: 0.3250 - recall_m: 0.1125 - val_loss: 2.1022 - val_accuracy: 0.2500 - val_f1_m: 0.0800 - val_precision_m: 0.2000 - val_recall_m: 0.0500\n",
      "Epoch 40/50\n",
      "20/20 - 3s - loss: 1.9397 - accuracy: 0.3875 - f1_m: 0.1443 - precision_m: 0.2917 - recall_m: 0.1000 - val_loss: 2.3157 - val_accuracy: 0.2000 - val_f1_m: 0.0800 - val_precision_m: 0.2000 - val_recall_m: 0.0500\n",
      "Epoch 41/50\n",
      "20/20 - 3s - loss: 1.9724 - accuracy: 0.2625 - f1_m: 0.0000e+00 - precision_m: 0.0000e+00 - recall_m: 0.0000e+00 - val_loss: 2.0704 - val_accuracy: 0.1000 - val_f1_m: 0.0000e+00 - val_precision_m: 0.0000e+00 - val_recall_m: 0.0000e+00\n",
      "Epoch 42/50\n",
      "20/20 - 3s - loss: 1.8601 - accuracy: 0.3500 - f1_m: 0.0400 - precision_m: 0.1000 - recall_m: 0.0250 - val_loss: 1.9170 - val_accuracy: 0.1500 - val_f1_m: 0.0000e+00 - val_precision_m: 0.0000e+00 - val_recall_m: 0.0000e+00\n",
      "Epoch 43/50\n",
      "20/20 - 3s - loss: 1.9986 - accuracy: 0.2125 - f1_m: 0.0000e+00 - precision_m: 0.0000e+00 - recall_m: 0.0000e+00 - val_loss: 1.8791 - val_accuracy: 0.2500 - val_f1_m: 0.0000e+00 - val_precision_m: 0.0000e+00 - val_recall_m: 0.0000e+00\n",
      "Epoch 44/50\n",
      "20/20 - 3s - loss: 1.7917 - accuracy: 0.3875 - f1_m: 0.0733 - precision_m: 0.1500 - recall_m: 0.0500 - val_loss: 1.9594 - val_accuracy: 0.4000 - val_f1_m: 0.2133 - val_precision_m: 0.4000 - val_recall_m: 0.1500\n",
      "Epoch 45/50\n",
      "20/20 - 3s - loss: 1.7557 - accuracy: 0.2875 - f1_m: 0.0800 - precision_m: 0.2000 - recall_m: 0.0500 - val_loss: 1.7921 - val_accuracy: 0.3000 - val_f1_m: 0.1333 - val_precision_m: 0.2000 - val_recall_m: 0.1000\n",
      "Epoch 46/50\n",
      "20/20 - 3s - loss: 1.8994 - accuracy: 0.2375 - f1_m: 0.0400 - precision_m: 0.1000 - recall_m: 0.0250 - val_loss: 1.9215 - val_accuracy: 0.2500 - val_f1_m: 0.0800 - val_precision_m: 0.2000 - val_recall_m: 0.0500\n",
      "Epoch 47/50\n",
      "20/20 - 3s - loss: 1.9538 - accuracy: 0.3500 - f1_m: 0.0200 - precision_m: 0.0500 - recall_m: 0.0125 - val_loss: 1.9090 - val_accuracy: 0.2500 - val_f1_m: 0.0000e+00 - val_precision_m: 0.0000e+00 - val_recall_m: 0.0000e+00\n",
      "Epoch 48/50\n",
      "20/20 - 3s - loss: 1.9564 - accuracy: 0.2875 - f1_m: 0.0200 - precision_m: 0.0500 - recall_m: 0.0125 - val_loss: 1.9915 - val_accuracy: 0.3000 - val_f1_m: 0.1905 - val_precision_m: 0.2667 - val_recall_m: 0.1500\n",
      "Epoch 49/50\n",
      "20/20 - 3s - loss: 1.9706 - accuracy: 0.2750 - f1_m: 0.0943 - precision_m: 0.2167 - recall_m: 0.0625 - val_loss: 2.0590 - val_accuracy: 0.3500 - val_f1_m: 0.0800 - val_precision_m: 0.2000 - val_recall_m: 0.0500\n",
      "Epoch 50/50\n",
      "20/20 - 3s - loss: 1.8986 - accuracy: 0.2500 - f1_m: 0.0533 - precision_m: 0.1000 - recall_m: 0.0375 - val_loss: 1.7568 - val_accuracy: 0.3000 - val_f1_m: 0.0000e+00 - val_precision_m: 0.0000e+00 - val_recall_m: 0.0000e+00\n"
     ]
    }
   ],
   "source": [
    "from tensorflow.keras.callbacks import ModelCheckpoint, EarlyStopping\n",
    "# checkpoint = ModelCheckpoint(\"vgg16_1.h5\", monitor='val_acc', verbose=1, save_best_only=True, save_weights_only=False, mode='auto', period=1)\n",
    "# early = EarlyStopping(monitor='val_acc', min_delta=0, patience=20, verbose=1, mode='auto')\n",
    "hist = model.fit_generator(steps_per_epoch=20,\n",
    "                           generator=train_batches, \n",
    "                           validation_data= valid_batches, \n",
    "                           validation_steps=5,\n",
    "                           epochs=50,\n",
    "#                            callbacks=[checkpoint,early],\n",
    "                           verbose=2)\n",
    "model.save('my_model.h5')"
   ]
  },
  {
   "cell_type": "code",
   "execution_count": 12,
   "metadata": {},
   "outputs": [
    {
     "data": {
      "image/png": "[encoded data removed]",
      "text/plain": [
       "<Figure size 432x288 with 1 Axes>"
      ]
     },
     "metadata": {
      "needs_background": "light"
     },
     "output_type": "display_data"
    },
    {
     "data": {
      "image/png": "[encoded data removed]",
      "text/plain": [
       "<Figure size 432x288 with 1 Axes>"
      ]
     },
     "metadata": {
      "needs_background": "light"
     },
     "output_type": "display_data"
    }
   ],
   "source": [
    "plt.plot(hist.history['accuracy'])\n",
    "plt.plot(hist.history['val_accuracy'])\n",
    "plt.title('model_accuracy')\n",
    "plt.ylabel('accuracy')\n",
    "plt.xlabel('epoch')\n",
    "plt.legend(['train', 'test'], loc='upper left')\n",
    "plt.show()\n",
    "plt.plot(hist.history['loss'])\n",
    "plt.plot(hist.history['val_loss'])\n",
    "plt.ylabel('loss')\n",
    "plt.xlabel('epoch')\n",
    "plt.legend(['train', 'test'], loc='upper left')\n",
    "plt.show()"
   ]
  },
  {
   "cell_type": "code",
   "execution_count": 13,
   "metadata": {},
   "outputs": [
    {
     "name": "stdout",
     "output_type": "stream",
     "text": [
      "WARNING:tensorflow:From <ipython-input-13-9ac50f214235>:1: Model.evaluate_generator (from tensorflow.python.keras.engine.training) is deprecated and will be removed in a future version.\n",
      "Instructions for updating:\n",
      "Please use Model.evaluate, which supports generators.\n",
      "2500/2500 [==============================] - 128s 51ms/step - loss: 1.8333 - accuracy: 0.3358 - f1_m: 0.0737 - precision_m: 0.1708 - recall_m: 0.0478\n"
     ]
    }
   ],
   "source": [
    "loss, accuracy, f1_score, precision, recall = model.evaluate_generator(generator=valid_batches,verbose=1)"
   ]
  },
  {
   "cell_type": "code",
   "execution_count": null,
   "metadata": {},
   "outputs": [],
   "source": []
  },
  {
   "cell_type": "code",
   "execution_count": null,
   "metadata": {},
   "outputs": [],
   "source": []
  },
  {
   "cell_type": "code",
   "execution_count": 14,
   "metadata": {},
   "outputs": [],
   "source": [
    "from numba import cuda\n",
    "cuda.select_device(0)\n",
    "cuda.close()"
   ]
  },
  {
   "cell_type": "code",
   "execution_count": null,
   "metadata": {},
   "outputs": [],
   "source": []
  },
  {
   "cell_type": "code",
   "execution_count": null,
   "metadata": {},
   "outputs": [],
   "source": []
  },
  {
   "cell_type": "code",
   "execution_count": null,
   "metadata": {},
   "outputs": [],
   "source": []
  },
  {
   "cell_type": "code",
   "execution_count": null,
   "metadata": {},
   "outputs": [],
   "source": []
  },
  {
   "cell_type": "code",
   "execution_count": null,
   "metadata": {},
   "outputs": [],
   "source": []
  }
 ],
 "metadata": {
  "kernelspec": {
   "display_name": "Python 3",
   "language": "python",
   "name": "python3"
  },
  "language_info": {
   "codemirror_mode": {
    "name": "ipython",
    "version": 3
   },
   "file_extension": ".py",
   "mimetype": "text/x-python",
   "name": "python",
   "nbconvert_exporter": "python",
   "pygments_lexer": "ipython3",
   "version": "3.8.5"
  }
 },
 "nbformat": 4,
 "nbformat_minor": 4
}
