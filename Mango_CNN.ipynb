{
 "cells": [
  {
   "cell_type": "code",
   "execution_count": 5,
   "metadata": {},
   "outputs": [],
   "source": [
    "import warnings\n",
    "warnings.filterwarnings('ignore')"
   ]
  },
  {
   "cell_type": "code",
   "execution_count": 6,
   "metadata": {},
   "outputs": [
    {
     "name": "stdout",
     "output_type": "stream",
     "text": [
      "tf=2.3.0\n",
      "keras=2.4.0\n",
      "1 Physical GPUs, 1 Logical GPUs\n"
     ]
    }
   ],
   "source": [
    "#import tensorflow.compat.v1 as tf\n",
    "#tf.disable_v2_behavior()\n",
    "import tensorflow as tf\n",
    "print(f'tf={tf.__version__}')\n",
    "from tensorflow import keras\n",
    "print(f'keras={keras.__version__}')\n",
    "def solve_cudnn_error():\n",
    "    gpus = tf.config.experimental.list_physical_devices('GPU')\n",
    "    if gpus:\n",
    "        try:\n",
    "            # Currently, memory growth needs to be the same across GPUs\n",
    "            for gpu in gpus:\n",
    "                tf.config.experimental.set_memory_growth(gpu, True)\n",
    "            logical_gpus = tf.config.experimental.list_logical_devices('GPU')\n",
    "            print(len(gpus), \"Physical GPUs,\", len(logical_gpus), \"Logical GPUs\")\n",
    "        except RuntimeError as e:\n",
    "            # Memory growth must be set before GPUs have been initialized\n",
    "            print(e)\n",
    "solve_cudnn_error()"
   ]
  },
  {
   "cell_type": "code",
   "execution_count": 7,
   "metadata": {},
   "outputs": [],
   "source": [
    "import os  # 處理字串路徑\n",
    "import glob  # 查詢檔案\n",
    "import numpy as np\n",
    "import tensorflow.keras as keras\n",
    "from tensorflow.keras import backend as K\n",
    "from tensorflow.keras.models import Sequential\n",
    "from tensorflow.keras.layers import Activation\n",
    "from tensorflow.keras.layers import Dense, Flatten\n",
    "from tensorflow.keras.optimizers import Adam\n",
    "from tensorflow.keras.metrics import categorical_crossentropy\n",
    "from tensorflow.keras.preprocessing.image import ImageDataGenerator\n",
    "from tensorflow.keras.layers import BatchNormalization\n",
    "from tensorflow.keras.layers import *\n",
    "from sklearn.metrics import confusion_matrix\n",
    "from tensorflow.keras.models import load_model\n",
    "import itertools\n",
    "import matplotlib.pyplot as plt\n",
    "from PIL import Image"
   ]
  },
  {
   "cell_type": "code",
   "execution_count": 8,
   "metadata": {},
   "outputs": [],
   "source": [
    "from tensorflow.keras import backend as K\n",
    "\n",
    "def recall_m(y_true, y_pred):\n",
    "    true_positives = K.sum(K.round(K.clip(y_true * y_pred, 0, 1)))\n",
    "    possible_positives = K.sum(K.round(K.clip(y_true, 0, 1)))\n",
    "    recall = true_positives / (possible_positives + K.epsilon())\n",
    "    return recall\n",
    "\n",
    "def precision_m(y_true, y_pred):\n",
    "    true_positives = K.sum(K.round(K.clip(y_true * y_pred, 0, 1)))\n",
    "    predicted_positives = K.sum(K.round(K.clip(y_pred, 0, 1)))\n",
    "    precision = true_positives / (predicted_positives + K.epsilon())\n",
    "    return precision\n",
    "\n",
    "def f1_m(y_true, y_pred):\n",
    "    precision = precision_m(y_true, y_pred)\n",
    "    recall = recall_m(y_true, y_pred)\n",
    "    return 2*((precision*recall)/(precision+recall+K.epsilon()))"
   ]
  },
  {
   "cell_type": "code",
   "execution_count": 9,
   "metadata": {},
   "outputs": [],
   "source": [
    "#圖表函數\n",
    "import matplotlib.pyplot as plt\n",
    "def show_train_history(train_history,train,validation):\n",
    "    plt.plot(train_history.history[train])\n",
    "    plt.plot(train_history.history[validation])\n",
    "    plt.title('Train History')\n",
    "    plt.ylabel(train)\n",
    "    plt.xlabel('Epoch')\n",
    "    plt.legend(['train', 'validation'], loc='upper left')\n",
    "    plt.show()"
   ]
  },
  {
   "cell_type": "code",
   "execution_count": null,
   "metadata": {},
   "outputs": [],
   "source": []
  },
  {
   "cell_type": "code",
   "execution_count": null,
   "metadata": {},
   "outputs": [],
   "source": []
  },
  {
   "cell_type": "code",
   "execution_count": 12,
   "metadata": {},
   "outputs": [],
   "source": [
    "import shutil\n",
    "import pandas as pd"
   ]
  },
  {
   "cell_type": "code",
   "execution_count": 13,
   "metadata": {},
   "outputs": [],
   "source": [
    "data = pd.read_csv('Mango/DATA/train.csv') \n",
    "trainData = data['image_id']\n",
    "train_labels = data['label']\n",
    "for i in range(len(data)):\n",
    "    shutil.copy('Mango/DATA/Train_Image/'+trainData[i], 'Mango/train/'+train_labels[i])\n",
    "# print(trainData)\n",
    "# print(train_labels)"
   ]
  },
  {
   "cell_type": "code",
   "execution_count": 14,
   "metadata": {},
   "outputs": [],
   "source": [
    "data = pd.read_csv('Mango/DATA/test.csv') \n",
    "testData = data['image_id']\n",
    "test_labels = data['label']\n",
    "for i in range(len(data)):\n",
    "    shutil.copy('Mango/DATA/Test_Image/'+testData[i], 'Mango/test/'+test_labels[i])"
   ]
  },
  {
   "cell_type": "code",
   "execution_count": 15,
   "metadata": {},
   "outputs": [],
   "source": [
    "train_path = 'Mango/train'\n",
    "valid_path = 'Mango/test'\n",
    "test_path = 'Mango/test'"
   ]
  },
  {
   "cell_type": "code",
   "execution_count": 16,
   "metadata": {},
   "outputs": [],
   "source": [
    "train_datagen = ImageDataGenerator(\n",
    "#     rotation_range=40,\n",
    "#     width_shift_range=0.2,\n",
    "#     height_shift_range=0.2,\n",
    "#     shear_range=0.2,\n",
    "#     zoom_range=0.2,\n",
    "#     horizontal_flip=True,\n",
    "#     fill_mode='nearest'\n",
    ")"
   ]
  },
  {
   "cell_type": "code",
   "execution_count": 17,
   "metadata": {},
   "outputs": [
    {
     "name": "stdout",
     "output_type": "stream",
     "text": [
      "Found 6130 images belonging to 3 classes.\n",
      "Found 250 images belonging to 3 classes.\n",
      "Found 250 images belonging to 3 classes.\n"
     ]
    }
   ],
   "source": [
    "train_batches = train_datagen.flow_from_directory(train_path, target_size=(128,128), \n",
    "                                                         classes=['A',\n",
    "                                                                  'B',\n",
    "                                                                  'C'], batch_size=4)\n",
    "valid_batches = ImageDataGenerator().flow_from_directory(valid_path, target_size=(128,128), \n",
    "                                                         classes=['A',\n",
    "                                                                  'B',\n",
    "                                                                  'C'], batch_size=4)\n",
    "test_batches = ImageDataGenerator().flow_from_directory(test_path, target_size=(128,128), \n",
    "                                                         classes=['A',\n",
    "                                                                  'B',\n",
    "                                                                  'C'], batch_size=4)"
   ]
  },
  {
   "cell_type": "code",
   "execution_count": 18,
   "metadata": {},
   "outputs": [],
   "source": [
    "# train_images= np.loadtxt('train.txt',delimiter=',')"
   ]
  },
  {
   "cell_type": "code",
   "execution_count": 19,
   "metadata": {},
   "outputs": [],
   "source": [
    "# train_images = train_images.reshape(len(trainData),imgWidth,imgHeight,3)"
   ]
  },
  {
   "cell_type": "code",
   "execution_count": null,
   "metadata": {},
   "outputs": [],
   "source": []
  },
  {
   "cell_type": "code",
   "execution_count": 20,
   "metadata": {},
   "outputs": [
    {
     "name": "stdout",
     "output_type": "stream",
     "text": [
      "Model: \"VGG16\"\n",
      "_________________________________________________________________\n",
      "Layer (type)                 Output Shape              Param #   \n",
      "=================================================================\n",
      "block1_conv1 (Conv2D)        (None, 128, 128, 64)      1792      \n",
      "_________________________________________________________________\n",
      "block1_conv2 (Conv2D)        (None, 128, 128, 64)      36928     \n",
      "_________________________________________________________________\n",
      "max_pooling2d (MaxPooling2D) (None, 64, 64, 64)        0         \n",
      "_________________________________________________________________\n",
      "block2_conv1 (Conv2D)        (None, 64, 64, 128)       73856     \n",
      "_________________________________________________________________\n",
      "block2_conv2 (Conv2D)        (None, 64, 64, 128)       147584    \n",
      "_________________________________________________________________\n",
      "max_pooling2d_1 (MaxPooling2 (None, 32, 32, 128)       0         \n",
      "_________________________________________________________________\n",
      "block3_conv1 (Conv2D)        (None, 32, 32, 256)       295168    \n",
      "_________________________________________________________________\n",
      "block3_conv2 (Conv2D)        (None, 32, 32, 256)       590080    \n",
      "_________________________________________________________________\n",
      "block3_conv3 (Conv2D)        (None, 32, 32, 256)       590080    \n",
      "_________________________________________________________________\n",
      "max_pooling2d_2 (MaxPooling2 (None, 16, 16, 256)       0         \n",
      "_________________________________________________________________\n",
      "block4_conv1 (Conv2D)        (None, 16, 16, 512)       1180160   \n",
      "_________________________________________________________________\n",
      "block4_conv2 (Conv2D)        (None, 16, 16, 512)       2359808   \n",
      "_________________________________________________________________\n",
      "block4_conv3 (Conv2D)        (None, 16, 16, 512)       2359808   \n",
      "_________________________________________________________________\n",
      "max_pooling2d_3 (MaxPooling2 (None, 8, 8, 512)         0         \n",
      "_________________________________________________________________\n",
      "block5_conv1 (Conv2D)        (None, 8, 8, 512)         2359808   \n",
      "_________________________________________________________________\n",
      "block5_conv2 (Conv2D)        (None, 8, 8, 512)         2359808   \n",
      "_________________________________________________________________\n",
      "block5_conv3 (Conv2D)        (None, 8, 8, 512)         2359808   \n",
      "_________________________________________________________________\n",
      "max_pooling2d_4 (MaxPooling2 (None, 4, 4, 512)         0         \n",
      "_________________________________________________________________\n",
      "flatten (Flatten)            (None, 8192)              0         \n",
      "_________________________________________________________________\n",
      "fc1 (Dense)                  (None, 1024)              8389632   \n",
      "_________________________________________________________________\n",
      "dropout (Dropout)            (None, 1024)              0         \n",
      "_________________________________________________________________\n",
      "fc2 (Dense)                  (None, 128)               131200    \n",
      "_________________________________________________________________\n",
      "dropout_1 (Dropout)          (None, 128)               0         \n",
      "_________________________________________________________________\n",
      "predictions (Dense)          (None, 3)                 387       \n",
      "=================================================================\n",
      "Total params: 23,235,907\n",
      "Trainable params: 23,235,907\n",
      "Non-trainable params: 0\n",
      "_________________________________________________________________\n"
     ]
    }
   ],
   "source": [
    "model = Sequential(name='VGG16')\n",
    "model.add(Convolution2D(64,(3, 3), activation='relu',name='block1_conv1',padding='same',input_shape=(128, 128, 3)))\n",
    "# model.add(ZeroPadding2D((1,1)))\n",
    "model.add(Convolution2D(64,(3, 3), activation='relu',name='block1_conv2',padding='same'))\n",
    "model.add(MaxPooling2D(pool_size=(2, 2)))\n",
    "\n",
    "# model.add(ZeroPadding2D((1,1)))\n",
    "model.add(Convolution2D(128,(3, 3), activation='relu',name='block2_conv1',padding='same'))\n",
    "# model.add(ZeroPadding2D((1,1)))\n",
    "model.add(Convolution2D(128,(3, 3), activation='relu',name='block2_conv2',padding='same'))\n",
    "model.add(MaxPooling2D(pool_size=(2, 2)))\n",
    "\n",
    "# model.add(ZeroPadding2D((1,1)))\n",
    "model.add(Convolution2D(256,(3, 3), activation='relu',name='block3_conv1',padding='same'))\n",
    "# model.add(ZeroPadding2D((1,1)))\n",
    "model.add(Convolution2D(256,(3, 3), activation='relu',name='block3_conv2',padding='same'))\n",
    "# model.add(ZeroPadding2D((1,1)))\n",
    "model.add(Convolution2D(256,(3, 3), activation='relu',name='block3_conv3',padding='same'))\n",
    "model.add(MaxPooling2D(pool_size=(2, 2)))\n",
    "\n",
    "# model.add(ZeroPadding2D((1,1)))\n",
    "model.add(Convolution2D(512,(3, 3), activation='relu',name='block4_conv1',padding='same'))\n",
    "# model.add(ZeroPadding2D((1,1)))\n",
    "model.add(Convolution2D(512,(3, 3), activation='relu',name='block4_conv2',padding='same'))\n",
    "# model.add(ZeroPadding2D((1,1)))\n",
    "model.add(Convolution2D(512,(3, 3), activation='relu',name='block4_conv3',padding='same'))\n",
    "model.add(MaxPooling2D(pool_size=(2, 2)))\n",
    "\n",
    "# model.add(ZeroPadding2D((1,1)))\n",
    "model.add(Convolution2D(512,(3, 3), activation='relu',name='block5_conv1',padding='same'))\n",
    "# model.add(ZeroPadding2D((1,1)))\n",
    "model.add(Convolution2D(512,(3, 3), activation='relu',name='block5_conv2',padding='same'))\n",
    "# model.add(ZeroPadding2D((1,1)))\n",
    "model.add(Convolution2D(512,(3, 3), activation='relu',name='block5_conv3',padding='same'))\n",
    "model.add(MaxPooling2D(pool_size=(2, 2)))\n",
    "\n",
    "model.add(Flatten(name='flatten'))\n",
    "model.add(Dense(1024, activation='relu',name='fc1'))\n",
    "model.add(Dropout(0.2))\n",
    "model.add(Dense(128, activation='relu',name='fc2'))\n",
    "model.add(Dropout(0.2))\n",
    "model.add(Dense(3, activation='softmax',name='predictions'))\n",
    "model.summary()"
   ]
  },
  {
   "cell_type": "code",
   "execution_count": 21,
   "metadata": {},
   "outputs": [],
   "source": [
    "# model.add(layers.Flatten())\n",
    "# model.add(layers.Dense(64, activation='relu'))\n",
    "# model.add(layers.Dense(3, activation='softmax'))"
   ]
  },
  {
   "cell_type": "code",
   "execution_count": 22,
   "metadata": {},
   "outputs": [],
   "source": [
    "model.compile(Adam(lr=.00002122), loss='categorical_crossentropy', metrics=['accuracy',f1_m,precision_m, recall_m])"
   ]
  },
  {
   "cell_type": "code",
   "execution_count": 23,
   "metadata": {},
   "outputs": [
    {
     "name": "stdout",
     "output_type": "stream",
     "text": [
      "WARNING:tensorflow:From <ipython-input-23-a8659db781b7>:18: Model.fit_generator (from tensorflow.python.keras.engine.training) is deprecated and will be removed in a future version.\n",
      "Instructions for updating:\n",
      "Please use Model.fit, which supports generators.\n",
      "Epoch 1/50\n",
      "WARNING:tensorflow:Callbacks method `on_train_batch_end` is slow compared to the batch time (batch time: 0.0322s vs `on_train_batch_end` time: 0.0659s). Check your callbacks.\n",
      "20/20 - 5s - loss: 1.1221 - accuracy: 0.4000 - f1_m: 0.2395 - precision_m: 0.3750 - recall_m: 0.2000 - val_loss: 1.2513 - val_accuracy: 0.1500 - val_f1_m: 0.0000e+00 - val_precision_m: 0.0000e+00 - val_recall_m: 0.0000e+00\n",
      "Epoch 2/50\n",
      "20/20 - 4s - loss: 1.1173 - accuracy: 0.4125 - f1_m: 0.1251 - precision_m: 0.2042 - recall_m: 0.1000 - val_loss: 1.3233 - val_accuracy: 0.3500 - val_f1_m: 0.3500 - val_precision_m: 0.3500 - val_recall_m: 0.3500\n",
      "Epoch 3/50\n",
      "20/20 - 5s - loss: 1.1371 - accuracy: 0.3125 - f1_m: 0.0518 - precision_m: 0.0542 - recall_m: 0.0500 - val_loss: 1.0950 - val_accuracy: 0.3500 - val_f1_m: 0.0000e+00 - val_precision_m: 0.0000e+00 - val_recall_m: 0.0000e+00\n",
      "Epoch 4/50\n",
      "20/20 - 4s - loss: 1.1092 - accuracy: 0.2875 - f1_m: 0.0000e+00 - precision_m: 0.0000e+00 - recall_m: 0.0000e+00 - val_loss: 1.1234 - val_accuracy: 0.2500 - val_f1_m: 0.0000e+00 - val_precision_m: 0.0000e+00 - val_recall_m: 0.0000e+00\n",
      "Epoch 5/50\n",
      "20/20 - 4s - loss: 1.0890 - accuracy: 0.4250 - f1_m: 0.0400 - precision_m: 0.1000 - recall_m: 0.0250 - val_loss: 1.1044 - val_accuracy: 0.4000 - val_f1_m: 0.0000e+00 - val_precision_m: 0.0000e+00 - val_recall_m: 0.0000e+00\n",
      "Epoch 6/50\n",
      "20/20 - 4s - loss: 1.0675 - accuracy: 0.4750 - f1_m: 0.0600 - precision_m: 0.1500 - recall_m: 0.0375 - val_loss: 1.0423 - val_accuracy: 0.4500 - val_f1_m: 0.3848 - val_precision_m: 0.6000 - val_recall_m: 0.3000\n",
      "Epoch 7/50\n",
      "20/20 - 4s - loss: 1.0571 - accuracy: 0.4000 - f1_m: 0.1262 - precision_m: 0.1750 - recall_m: 0.1000 - val_loss: 1.1417 - val_accuracy: 0.3500 - val_f1_m: 0.0800 - val_precision_m: 0.2000 - val_recall_m: 0.0500\n",
      "Epoch 8/50\n",
      "20/20 - 4s - loss: 1.0921 - accuracy: 0.3375 - f1_m: 0.0567 - precision_m: 0.1250 - recall_m: 0.0375 - val_loss: 1.0757 - val_accuracy: 0.5000 - val_f1_m: 0.0000e+00 - val_precision_m: 0.0000e+00 - val_recall_m: 0.0000e+00\n",
      "Epoch 9/50\n",
      "20/20 - 4s - loss: 1.0562 - accuracy: 0.3750 - f1_m: 0.0000e+00 - precision_m: 0.0000e+00 - recall_m: 0.0000e+00 - val_loss: 1.2061 - val_accuracy: 0.3000 - val_f1_m: 0.0000e+00 - val_precision_m: 0.0000e+00 - val_recall_m: 0.0000e+00\n",
      "Epoch 10/50\n",
      "20/20 - 4s - loss: 1.1253 - accuracy: 0.3750 - f1_m: 0.0676 - precision_m: 0.1167 - recall_m: 0.0500 - val_loss: 1.1501 - val_accuracy: 0.2500 - val_f1_m: 0.0000e+00 - val_precision_m: 0.0000e+00 - val_recall_m: 0.0000e+00\n",
      "Epoch 11/50\n",
      "20/20 - 4s - loss: 1.1032 - accuracy: 0.3750 - f1_m: 0.0000e+00 - precision_m: 0.0000e+00 - recall_m: 0.0000e+00 - val_loss: 1.1261 - val_accuracy: 0.2500 - val_f1_m: 0.0000e+00 - val_precision_m: 0.0000e+00 - val_recall_m: 0.0000e+00\n",
      "Epoch 12/50\n",
      "20/20 - 6s - loss: 1.0886 - accuracy: 0.4231 - f1_m: 0.0000e+00 - precision_m: 0.0000e+00 - recall_m: 0.0000e+00 - val_loss: 1.0602 - val_accuracy: 0.5000 - val_f1_m: 0.0000e+00 - val_precision_m: 0.0000e+00 - val_recall_m: 0.0000e+00\n",
      "Epoch 13/50\n",
      "20/20 - 4s - loss: 1.0879 - accuracy: 0.4250 - f1_m: 0.1329 - precision_m: 0.2250 - recall_m: 0.1000 - val_loss: 1.0872 - val_accuracy: 0.4000 - val_f1_m: 0.0000e+00 - val_precision_m: 0.0000e+00 - val_recall_m: 0.0000e+00\n",
      "Epoch 14/50\n",
      "20/20 - 4s - loss: 1.0458 - accuracy: 0.4500 - f1_m: 0.0000e+00 - precision_m: 0.0000e+00 - recall_m: 0.0000e+00 - val_loss: 1.0754 - val_accuracy: 0.4500 - val_f1_m: 0.0000e+00 - val_precision_m: 0.0000e+00 - val_recall_m: 0.0000e+00\n",
      "Epoch 15/50\n",
      "20/20 - 4s - loss: 1.0812 - accuracy: 0.3875 - f1_m: 0.0333 - precision_m: 0.0500 - recall_m: 0.0250 - val_loss: 1.0558 - val_accuracy: 0.2500 - val_f1_m: 0.0000e+00 - val_precision_m: 0.0000e+00 - val_recall_m: 0.0000e+00\n",
      "Epoch 16/50\n",
      "20/20 - 4s - loss: 1.0444 - accuracy: 0.4250 - f1_m: 0.1436 - precision_m: 0.2333 - recall_m: 0.1125 - val_loss: 0.9860 - val_accuracy: 0.5000 - val_f1_m: 0.1467 - val_precision_m: 0.3000 - val_recall_m: 0.1000\n",
      "Epoch 17/50\n",
      "20/20 - 4s - loss: 1.1261 - accuracy: 0.4375 - f1_m: 0.2421 - precision_m: 0.3917 - recall_m: 0.1875 - val_loss: 1.0486 - val_accuracy: 0.4500 - val_f1_m: 0.0000e+00 - val_precision_m: 0.0000e+00 - val_recall_m: 0.0000e+00\n",
      "Epoch 18/50\n",
      "20/20 - 4s - loss: 1.0799 - accuracy: 0.3750 - f1_m: 0.0000e+00 - precision_m: 0.0000e+00 - recall_m: 0.0000e+00 - val_loss: 1.0688 - val_accuracy: 0.4500 - val_f1_m: 0.0000e+00 - val_precision_m: 0.0000e+00 - val_recall_m: 0.0000e+00\n",
      "Epoch 19/50\n",
      "20/20 - 4s - loss: 1.0695 - accuracy: 0.4125 - f1_m: 0.0000e+00 - precision_m: 0.0000e+00 - recall_m: 0.0000e+00 - val_loss: 1.0128 - val_accuracy: 0.6000 - val_f1_m: 0.0000e+00 - val_precision_m: 0.0000e+00 - val_recall_m: 0.0000e+00\n",
      "Epoch 20/50\n",
      "20/20 - 3s - loss: 1.0488 - accuracy: 0.5000 - f1_m: 0.0700 - precision_m: 0.1250 - recall_m: 0.0500 - val_loss: 0.9408 - val_accuracy: 0.6000 - val_f1_m: 0.3733 - val_precision_m: 0.8000 - val_recall_m: 0.2500\n",
      "Epoch 21/50\n",
      "20/20 - 3s - loss: 1.0253 - accuracy: 0.4625 - f1_m: 0.2319 - precision_m: 0.4583 - recall_m: 0.1625 - val_loss: 1.0686 - val_accuracy: 0.4500 - val_f1_m: 0.0000e+00 - val_precision_m: 0.0000e+00 - val_recall_m: 0.0000e+00\n",
      "Epoch 22/50\n",
      "20/20 - 3s - loss: 0.9968 - accuracy: 0.4375 - f1_m: 0.3300 - precision_m: 0.5500 - recall_m: 0.2500 - val_loss: 0.9707 - val_accuracy: 0.6000 - val_f1_m: 0.4381 - val_precision_m: 0.6000 - val_recall_m: 0.3500\n",
      "Epoch 23/50\n",
      "20/20 - 3s - loss: 0.9742 - accuracy: 0.5500 - f1_m: 0.4926 - precision_m: 0.5917 - recall_m: 0.4375 - val_loss: 0.7700 - val_accuracy: 0.7500 - val_f1_m: 0.4548 - val_precision_m: 0.5500 - val_recall_m: 0.4000\n",
      "Epoch 24/50\n",
      "20/20 - 3s - loss: 0.9806 - accuracy: 0.5250 - f1_m: 0.2181 - precision_m: 0.3833 - recall_m: 0.1625 - val_loss: 0.9200 - val_accuracy: 0.5500 - val_f1_m: 0.3100 - val_precision_m: 0.5500 - val_recall_m: 0.2500\n",
      "Epoch 25/50\n",
      "20/20 - 3s - loss: 1.0236 - accuracy: 0.4125 - f1_m: 0.2338 - precision_m: 0.3917 - recall_m: 0.1750 - val_loss: 1.0191 - val_accuracy: 0.5000 - val_f1_m: 0.2267 - val_precision_m: 0.5000 - val_recall_m: 0.1500\n",
      "Epoch 26/50\n",
      "20/20 - 3s - loss: 0.9846 - accuracy: 0.5125 - f1_m: 0.2455 - precision_m: 0.3917 - recall_m: 0.2000 - val_loss: 1.0061 - val_accuracy: 0.3500 - val_f1_m: 0.2976 - val_precision_m: 0.3833 - val_recall_m: 0.2500\n",
      "Epoch 27/50\n",
      "20/20 - 3s - loss: 0.9640 - accuracy: 0.5375 - f1_m: 0.2479 - precision_m: 0.4250 - recall_m: 0.1875 - val_loss: 0.9368 - val_accuracy: 0.6500 - val_f1_m: 0.3048 - val_precision_m: 0.4000 - val_recall_m: 0.2500\n",
      "Epoch 28/50\n",
      "20/20 - 4s - loss: 0.9609 - accuracy: 0.5125 - f1_m: 0.4568 - precision_m: 0.6375 - recall_m: 0.3875 - val_loss: 1.1172 - val_accuracy: 0.4000 - val_f1_m: 0.3857 - val_precision_m: 0.4333 - val_recall_m: 0.3500\n",
      "Epoch 29/50\n",
      "20/20 - 3s - loss: 0.9657 - accuracy: 0.5375 - f1_m: 0.4202 - precision_m: 0.4750 - recall_m: 0.3875 - val_loss: 1.0473 - val_accuracy: 0.5000 - val_f1_m: 0.0000e+00 - val_precision_m: 0.0000e+00 - val_recall_m: 0.0000e+00\n",
      "Epoch 30/50\n",
      "20/20 - 4s - loss: 1.0040 - accuracy: 0.5250 - f1_m: 0.2329 - precision_m: 0.4750 - recall_m: 0.1625 - val_loss: 1.0270 - val_accuracy: 0.5000 - val_f1_m: 0.4267 - val_precision_m: 0.8000 - val_recall_m: 0.3000\n",
      "Epoch 31/50\n",
      "20/20 - 4s - loss: 1.0720 - accuracy: 0.4750 - f1_m: 0.1243 - precision_m: 0.2417 - recall_m: 0.0875 - val_loss: 0.9527 - val_accuracy: 0.5500 - val_f1_m: 0.0800 - val_precision_m: 0.2000 - val_recall_m: 0.0500\n",
      "Epoch 32/50\n",
      "20/20 - 3s - loss: 0.9850 - accuracy: 0.5250 - f1_m: 0.3057 - precision_m: 0.4167 - recall_m: 0.2500 - val_loss: 1.1764 - val_accuracy: 0.3500 - val_f1_m: 0.1800 - val_precision_m: 0.3000 - val_recall_m: 0.1500\n",
      "Epoch 33/50\n",
      "20/20 - 3s - loss: 1.1178 - accuracy: 0.4125 - f1_m: 0.0367 - precision_m: 0.0750 - recall_m: 0.0250 - val_loss: 1.0691 - val_accuracy: 0.3500 - val_f1_m: 0.0000e+00 - val_precision_m: 0.0000e+00 - val_recall_m: 0.0000e+00\n",
      "Epoch 34/50\n",
      "20/20 - 3s - loss: 1.0633 - accuracy: 0.3625 - f1_m: 0.0000e+00 - precision_m: 0.0000e+00 - recall_m: 0.0000e+00 - val_loss: 1.0041 - val_accuracy: 0.6000 - val_f1_m: 0.0000e+00 - val_precision_m: 0.0000e+00 - val_recall_m: 0.0000e+00\n"
     ]
    },
    {
     "name": "stdout",
     "output_type": "stream",
     "text": [
      "Epoch 35/50\n",
      "20/20 - 3s - loss: 1.0094 - accuracy: 0.5375 - f1_m: 0.0200 - precision_m: 0.0500 - recall_m: 0.0125 - val_loss: 1.0592 - val_accuracy: 0.5000 - val_f1_m: 0.0000e+00 - val_precision_m: 0.0000e+00 - val_recall_m: 0.0000e+00\n",
      "Epoch 36/50\n",
      "20/20 - 3s - loss: 1.0031 - accuracy: 0.4625 - f1_m: 0.1276 - precision_m: 0.2667 - recall_m: 0.0875 - val_loss: 0.9793 - val_accuracy: 0.5000 - val_f1_m: 0.2000 - val_precision_m: 0.3000 - val_recall_m: 0.1500\n",
      "Epoch 37/50\n",
      "20/20 - 3s - loss: 0.9874 - accuracy: 0.4250 - f1_m: 0.2782 - precision_m: 0.4625 - recall_m: 0.2125 - val_loss: 0.9803 - val_accuracy: 0.6500 - val_f1_m: 0.2933 - val_precision_m: 0.6000 - val_recall_m: 0.2000\n",
      "Epoch 38/50\n",
      "20/20 - 3s - loss: 0.9040 - accuracy: 0.6000 - f1_m: 0.2963 - precision_m: 0.4542 - recall_m: 0.2375 - val_loss: 0.8686 - val_accuracy: 0.6000 - val_f1_m: 0.4119 - val_precision_m: 0.5167 - val_recall_m: 0.3500\n",
      "Epoch 39/50\n",
      "20/20 - 3s - loss: 0.9030 - accuracy: 0.5875 - f1_m: 0.4551 - precision_m: 0.5542 - recall_m: 0.4000 - val_loss: 0.9839 - val_accuracy: 0.6500 - val_f1_m: 0.5357 - val_precision_m: 0.6833 - val_recall_m: 0.4500\n",
      "Epoch 40/50\n",
      "20/20 - 3s - loss: 1.0021 - accuracy: 0.5125 - f1_m: 0.2874 - precision_m: 0.4500 - recall_m: 0.2250 - val_loss: 0.8805 - val_accuracy: 0.5000 - val_f1_m: 0.3476 - val_precision_m: 0.4333 - val_recall_m: 0.3000\n",
      "Epoch 41/50\n",
      "20/20 - 3s - loss: 0.9632 - accuracy: 0.4750 - f1_m: 0.3301 - precision_m: 0.4458 - recall_m: 0.2750 - val_loss: 1.0891 - val_accuracy: 0.3500 - val_f1_m: 0.3133 - val_precision_m: 0.5000 - val_recall_m: 0.2500\n",
      "Epoch 42/50\n",
      "20/20 - 3s - loss: 1.0797 - accuracy: 0.3875 - f1_m: 0.1719 - precision_m: 0.3083 - recall_m: 0.1250 - val_loss: 0.9642 - val_accuracy: 0.5000 - val_f1_m: 0.0800 - val_precision_m: 0.2000 - val_recall_m: 0.0500\n",
      "Epoch 43/50\n",
      "20/20 - 3s - loss: 1.0262 - accuracy: 0.4250 - f1_m: 0.1819 - precision_m: 0.3833 - recall_m: 0.1250 - val_loss: 0.9242 - val_accuracy: 0.5000 - val_f1_m: 0.3238 - val_precision_m: 0.4667 - val_recall_m: 0.2500\n",
      "Epoch 44/50\n",
      "20/20 - 3s - loss: 0.9936 - accuracy: 0.4625 - f1_m: 0.2279 - precision_m: 0.3750 - recall_m: 0.1750 - val_loss: 0.9940 - val_accuracy: 0.5500 - val_f1_m: 0.0800 - val_precision_m: 0.2000 - val_recall_m: 0.0500\n",
      "Epoch 45/50\n",
      "20/20 - 3s - loss: 0.9105 - accuracy: 0.5250 - f1_m: 0.3295 - precision_m: 0.6000 - recall_m: 0.2375 - val_loss: 0.7486 - val_accuracy: 0.6000 - val_f1_m: 0.4500 - val_precision_m: 0.6500 - val_recall_m: 0.3500\n",
      "Epoch 46/50\n",
      "20/20 - 3s - loss: 0.9229 - accuracy: 0.5000 - f1_m: 0.4090 - precision_m: 0.6000 - recall_m: 0.3250 - val_loss: 1.3247 - val_accuracy: 0.4500 - val_f1_m: 0.3943 - val_precision_m: 0.5333 - val_recall_m: 0.3500\n",
      "Epoch 47/50\n",
      "20/20 - 3s - loss: 1.0576 - accuracy: 0.4500 - f1_m: 0.3921 - precision_m: 0.5833 - recall_m: 0.3125 - val_loss: 1.0261 - val_accuracy: 0.3500 - val_f1_m: 0.2933 - val_precision_m: 0.6000 - val_recall_m: 0.2000\n",
      "Epoch 48/50\n",
      "20/20 - 3s - loss: 0.9738 - accuracy: 0.5000 - f1_m: 0.3699 - precision_m: 0.5875 - recall_m: 0.2875 - val_loss: 1.0051 - val_accuracy: 0.3500 - val_f1_m: 0.3643 - val_precision_m: 0.4833 - val_recall_m: 0.3000\n",
      "Epoch 49/50\n",
      "20/20 - 3s - loss: 1.0137 - accuracy: 0.4750 - f1_m: 0.1538 - precision_m: 0.2917 - recall_m: 0.1125 - val_loss: 0.9906 - val_accuracy: 0.4500 - val_f1_m: 0.0800 - val_precision_m: 0.2000 - val_recall_m: 0.0500\n",
      "Epoch 50/50\n",
      "20/20 - 3s - loss: 0.9323 - accuracy: 0.4875 - f1_m: 0.1738 - precision_m: 0.3417 - recall_m: 0.1250 - val_loss: 0.9453 - val_accuracy: 0.6500 - val_f1_m: 0.3976 - val_precision_m: 0.4833 - val_recall_m: 0.3500\n"
     ]
    }
   ],
   "source": [
    "# model.compile(optimizer='adam',\n",
    "#               loss=tf.keras.losses.SparseCategoricalCrossentropy(from_logits=True),\n",
    "#               metrics=['accuracy',f1_m,precision_m, recall_m])\n",
    "\n",
    "# log_dir = \"logs/\" + datetime.datetime.now().strftime(\"%Y%m%d-%H%M%S\")\n",
    "# tensorboard_callback = tf.keras.callbacks.TensorBoard(log_dir=log_dir, histogram_freq=1)\n",
    "# history = model.fit(x=train_images, \n",
    "#                     y=train_labels, \n",
    "#                     epochs=20,\n",
    "#                     batch_size=512,\n",
    "#                     verbose=1,\n",
    "#                     validation_data=(test_images, test_labels))\n",
    "# #                     ,callbacks=[tensorboard_callback])\n",
    "\n",
    "from tensorflow.keras.callbacks import ModelCheckpoint, EarlyStopping\n",
    "# checkpoint = ModelCheckpoint(\"vgg16_1.h5\", monitor='val_acc', verbose=1, save_best_only=True, save_weights_only=False, mode='auto', period=1)\n",
    "# early = EarlyStopping(monitor='val_acc', min_delta=0, patience=20, verbose=1, mode='auto')\n",
    "hist = model.fit_generator(steps_per_epoch=20,\n",
    "                           generator=train_batches, \n",
    "                           validation_data= valid_batches, \n",
    "                           validation_steps=5,\n",
    "                           epochs=50,\n",
    "                           verbose=2)\n",
    "#                            callbacks=[checkpoint,early],\n",
    "                           \n",
    "# model.save('my_model.h5')"
   ]
  },
  {
   "cell_type": "code",
   "execution_count": 24,
   "metadata": {},
   "outputs": [
    {
     "data": {
      "image/png": "[encoded data removed]",
      "text/plain": [
       "<Figure size 432x288 with 1 Axes>"
      ]
     },
     "metadata": {
      "needs_background": "light"
     },
     "output_type": "display_data"
    },
    {
     "data": {
      "image/png": "[encoded data removed]",
      "text/plain": [
       "<Figure size 432x288 with 1 Axes>"
      ]
     },
     "metadata": {
      "needs_background": "light"
     },
     "output_type": "display_data"
    }
   ],
   "source": [
    "# plt.plot(history.history['accuracy'], label='accuracy')\n",
    "# plt.plot(history.history['val_accuracy'], label = 'val_accuracy')\n",
    "show_train_history(hist,'accuracy','val_accuracy')\n",
    "show_train_history(hist,'loss','val_loss')"
   ]
  },
  {
   "cell_type": "code",
   "execution_count": 25,
   "metadata": {},
   "outputs": [
    {
     "name": "stdout",
     "output_type": "stream",
     "text": [
      "WARNING:tensorflow:From <ipython-input-25-9ac50f214235>:1: Model.evaluate_generator (from tensorflow.python.keras.engine.training) is deprecated and will be removed in a future version.\n",
      "Instructions for updating:\n",
      "Please use Model.evaluate, which supports generators.\n",
      "63/63 [==============================] - 7s 114ms/step - loss: 0.9271 - accuracy: 0.5400 - f1_m: 0.3894 - precision_m: 0.5833 - recall_m: 0.3135\n"
     ]
    }
   ],
   "source": [
    "loss, accuracy, f1_score, precision, recall = model.evaluate_generator(generator=valid_batches,verbose=1)"
   ]
  },
  {
   "cell_type": "code",
   "execution_count": 26,
   "metadata": {},
   "outputs": [
    {
     "name": "stdout",
     "output_type": "stream",
     "text": [
      "0.9270679950714111 0.5400000214576721 0.38938018679618835 0.5833332538604736 0.3134920597076416\n"
     ]
    }
   ],
   "source": [
    "print(loss, accuracy, f1_score, precision, recall)"
   ]
  },
  {
   "cell_type": "code",
   "execution_count": null,
   "metadata": {},
   "outputs": [],
   "source": [
    "# !tensorboard --logdir logs\n",
    "# # !tensorboard --logdir = /logs"
   ]
  },
  {
   "cell_type": "code",
   "execution_count": 116,
   "metadata": {},
   "outputs": [],
   "source": [
    "from numba import cuda\n",
    "cuda.select_device(0)\n",
    "cuda.close()"
   ]
  },
  {
   "cell_type": "code",
   "execution_count": null,
   "metadata": {},
   "outputs": [],
   "source": []
  },
  {
   "cell_type": "code",
   "execution_count": null,
   "metadata": {},
   "outputs": [],
   "source": []
  }
 ],
 "metadata": {
  "kernelspec": {
   "display_name": "Python 3",
   "language": "python",
   "name": "python3"
  },
  "language_info": {
   "codemirror_mode": {
    "name": "ipython",
    "version": 3
   },
   "file_extension": ".py",
   "mimetype": "text/x-python",
   "name": "python",
   "nbconvert_exporter": "python",
   "pygments_lexer": "ipython3",
   "version": "3.8.5"
  }
 },
 "nbformat": 4,
 "nbformat_minor": 5
}
